{
 "cells": [
  {
   "cell_type": "code",
   "execution_count": 1,
   "metadata": {},
   "outputs": [],
   "source": [
    "%load_ext autoreload\n",
    "%autoreload 2  # Autoreload all modules\n",
    "%matplotlib inline\n",
    "\n",
    "import warnings\n",
    "warnings.filterwarnings('ignore')"
   ]
  },
  {
   "cell_type": "code",
   "execution_count": 2,
   "metadata": {},
   "outputs": [],
   "source": [
    "# libs\n",
    "import glob\n",
    "import pandas as pd\n",
    "import random\n",
    "import pprint\n",
    "pp = pprint.PrettyPrinter(indent=4)\n",
    "#import importlib\n",
    "\n",
    "import itertools\n",
    "from collections import Counter\n",
    "from collections import OrderedDict\n",
    "import matplotlib.pyplot as plt\n",
    "import numpy as np\n",
    "\n",
    "from nltk import sent_tokenize\n",
    "from nltk.tokenize import word_tokenize\n",
    "\n",
    "import networkx as nx\n",
    "\n",
    "from tqdm import tqdm\n",
    "\n",
    "# perso\n",
    "import sys\n",
    "sys.path.append('utils/')\n",
    "sys.path.append('argdisc/')\n",
    "\n",
    "sys.path.insert(1, '/Users/lhuber/Documents/Research/Phd/workdir/SciDTB/code/probing/')\n",
    "\n",
    "from data_mgmt import *\n",
    "from graphs_utils import *\n",
    "from moves_utils import *\n",
    "from corpus_utils import Corpus\n",
    "from preprocessing_utils import *\n",
    "from arg_ana import *\n",
    "from gspan import *\n",
    "from arg_disc_ana import *\n",
    "# Import corpus to dataframe (text and units)\n",
    "\n",
    "# the corpus is organized following 3 directories\n",
    "# in each directory, some files are annotated by multiple annotators\n",
    "# so we take all the uniq documents (just 1 annotator)\n",
    "pathtodirtrain = \"data/train/\"\n",
    "pathtodirtest  = \"data/test/gold/\"\n",
    "pathtodirdev   = \"data/dev/gold/\"\n",
    "pathtographs   = \"data/graphimages/\"\n",
    "path2properties = \"data/SciDTB_articles_properties.csv\"\n",
    "\n",
    "\n",
    "# considere only 1 annotator (taken randomly)\n",
    "# /!\\ sera à regarder proprement selon les exéps à venir\n",
    "allano = \"*.dep\"\n",
    "files = glob.glob(pathtodirtrain+allano) # for train keep only one annotator\n",
    "# remove duplicate documents (other annotators)\n",
    "files = [x for x in files if \"anno2\" not in x and \"anno3\" not in x] \n",
    "files += glob.glob(pathtodirtest+allano)\n",
    "files += glob.glob(pathtodirdev+allano)\n",
    "\n",
    "\n",
    "c = Corpus(files=files)"
   ]
  },
  {
   "cell_type": "markdown",
   "metadata": {},
   "source": [
    "# Load global corpus"
   ]
  },
  {
   "cell_type": "code",
   "execution_count": 3,
   "metadata": {},
   "outputs": [],
   "source": [
    "movesdtf = moves_dtf(c.corpus)"
   ]
  },
  {
   "cell_type": "code",
   "execution_count": 4,
   "metadata": {},
   "outputs": [],
   "source": [
    "movesdtf[\"macrotype\"] = movesdtf.apply(lambda row: meta_type(row.gbg, row.gmethod, row.geval),  axis=1)"
   ]
  },
  {
   "cell_type": "code",
   "execution_count": 5,
   "metadata": {},
   "outputs": [],
   "source": [
    "names = list(movesdtf.index)"
   ]
  },
  {
   "cell_type": "markdown",
   "metadata": {},
   "source": [
    "# Prepare Arg data"
   ]
  },
  {
   "cell_type": "code",
   "execution_count": 6,
   "metadata": {},
   "outputs": [],
   "source": [
    "arg_annots = \"data/scidtb_argmin_annotations/*.conll.good\"\n",
    "basename = \"data/scidtb_argmin_annotations/\"\n",
    "endname = \"-fexp-corpus.conll.good\"\n",
    "arg_files = [x for x in glob.glob(arg_annots)]"
   ]
  },
  {
   "cell_type": "code",
   "execution_count": 7,
   "metadata": {},
   "outputs": [],
   "source": [
    "docs = []\n",
    "for file in arg_files:\n",
    "    docname = file.replace(basename, \"\")\n",
    "    docname = docname.replace(endname, \"\")\n",
    "    docs.append(docname)"
   ]
  },
  {
   "cell_type": "code",
   "execution_count": 8,
   "metadata": {},
   "outputs": [],
   "source": [
    "argdtf = movesdtf.loc[docs]"
   ]
  },
  {
   "cell_type": "code",
   "execution_count": 9,
   "metadata": {},
   "outputs": [],
   "source": [
    "argdtf[\"arg_annot\"] = argdtf.apply(lambda x: get_arg_annot(basename+x.name+endname), axis=1)\n",
    "argdtf[\"arg_graph\"] = argdtf.apply(lambda x: get_arg_graph(x.arg_annot), axis=1)\n",
    "argdtf[\"arg_types\"] = argdtf.apply(lambda x: get_arg_types(get_arg_annot(basename+x.name+endname)), axis=1)"
   ]
  },
  {
   "cell_type": "code",
   "execution_count": 10,
   "metadata": {},
   "outputs": [],
   "source": [
    "argdiscdtf = argdtf[[\"segments\",\"edus_sent_ids\",\"graph\", \"arg_graph\", \"arg_annot\", \"arg_types\"]]"
   ]
  },
  {
   "cell_type": "markdown",
   "metadata": {},
   "source": [
    "# Predict Arg segmentation from sentence segmentation"
   ]
  },
  {
   "cell_type": "code",
   "execution_count": 11,
   "metadata": {},
   "outputs": [],
   "source": [
    "argdiscdtf[\"arg_sents\"] = argdiscdtf.apply(lambda x: get_arg_sents(get_arg_annot(basename+x.name+endname)), axis=1)\n",
    "argdiscdtf[\"segtxt\"] = argdiscdtf.apply(lambda row: preprocess(row.segments), axis=1)\n",
    "argdiscdtf[\"argtxt\"] = argdiscdtf.apply(lambda row: preprocess(row.arg_sents), axis=1)\n",
    "argdiscdtf[\"edus_adus_mapping\"] = argdiscdtf.apply(lambda row: to_edus_adus_mapping(row.argtxt, row.segtxt), axis=1)\n",
    "argdiscdtf[\"adus_edus_mapping\"] = argdiscdtf.apply(lambda row: remove_nones(to_adus_edus_mapping(row.edus_adus_mapping)), axis=1)\n",
    "argdiscdtf[\"sents_edus_mapping\"] = argdiscdtf.apply(lambda row: to_sent_edus_mapping(row.edus_sent_ids), axis=1)"
   ]
  },
  {
   "cell_type": "code",
   "execution_count": 12,
   "metadata": {},
   "outputs": [],
   "source": [
    "argdiscdtf[\"true\"] = argdiscdtf.apply(lambda row: list(row.adus_edus_mapping.values()), axis=1)\n",
    "argdiscdtf[\"pred\"] = argdiscdtf.apply(lambda row: list(row.sents_edus_mapping.values()), axis=1)\n",
    "evaluate = argdiscdtf[[\"true\", \"pred\"]]"
   ]
  },
  {
   "cell_type": "code",
   "execution_count": 13,
   "metadata": {},
   "outputs": [],
   "source": [
    "def get_tp(true, pred):\n",
    "    tp = 0\n",
    "    for p in pred:\n",
    "        if p in true:\n",
    "            tp+=1\n",
    "    return tp\n",
    "\n",
    "def get_fn(true, pred):\n",
    "    fn = 0\n",
    "    for t in true:\n",
    "        if t not in pred:\n",
    "            fn+=1\n",
    "    return fn\n",
    "\n",
    "def get_fp(true, pred):\n",
    "    fp = 0\n",
    "    for p in pred:\n",
    "        if p not in true:\n",
    "            fp+=1\n",
    "    return fp\n",
    "            \n",
    "def precision(true, pred):\n",
    "    tp = get_tp(true, pred)\n",
    "    fp = get_fp(true, pred)\n",
    "    return tp/(tp+fp)\n",
    "    \n",
    "\n",
    "def rappel(true, pred):\n",
    "    tp = get_tp(true, pred)\n",
    "    fn = get_fn(true, pred)\n",
    "    return tp/(tp+fn)\n",
    "\n",
    "def jacc(list1, list2):\n",
    "    list1 = list(map(lambda x: \"\".join([str(y) for y in x]), list1))\n",
    "    list2 = list(map(lambda x: \"\".join([str(y) for y in x]), list2))\n",
    "\n",
    "    intersection = len(list(set(list1).intersection(list2)))\n",
    "    union = (len(list1) + len(list2)) - intersection\n",
    "    return float(intersection) / union"
   ]
  },
  {
   "cell_type": "code",
   "execution_count": 14,
   "metadata": {},
   "outputs": [],
   "source": [
    "evaluate[\"prec\"] = evaluate.apply(lambda row : precision(row.true, row.pred), axis=1)\n",
    "evaluate[\"rappel\"] = evaluate.apply(lambda row : rappel(row.true, row.pred), axis=1)\n",
    "evaluate[\"jacc\"] = evaluate.apply(lambda row : jacc(row.true, row.pred), axis=1)"
   ]
  },
  {
   "cell_type": "code",
   "execution_count": 15,
   "metadata": {},
   "outputs": [
    {
     "data": {
      "text/plain": [
       "count    60.000000\n",
       "mean      0.875516\n",
       "std       0.171686\n",
       "min       0.333333\n",
       "25%       0.800000\n",
       "50%       1.000000\n",
       "75%       1.000000\n",
       "max       1.000000\n",
       "Name: prec, dtype: float64"
      ]
     },
     "execution_count": 15,
     "metadata": {},
     "output_type": "execute_result"
    }
   ],
   "source": [
    "evaluate[\"prec\"].describe()"
   ]
  },
  {
   "cell_type": "code",
   "execution_count": 16,
   "metadata": {},
   "outputs": [
    {
     "data": {
      "text/plain": [
       "count    60.000000\n",
       "mean      0.838353\n",
       "std       0.226509\n",
       "min       0.200000\n",
       "25%       0.666667\n",
       "50%       1.000000\n",
       "75%       1.000000\n",
       "max       1.000000\n",
       "Name: rappel, dtype: float64"
      ]
     },
     "execution_count": 16,
     "metadata": {},
     "output_type": "execute_result"
    }
   ],
   "source": [
    "evaluate[\"rappel\"].describe()"
   ]
  },
  {
   "cell_type": "markdown",
   "metadata": {},
   "source": [
    "# Predict Arg structure from discourse structure"
   ]
  },
  {
   "cell_type": "code",
   "execution_count": 17,
   "metadata": {},
   "outputs": [],
   "source": [
    "def get_sent_edus(edussents):\n",
    "    out = {}\n",
    "    for edu, sent in enumerate(edussents):\n",
    "        if sent not in out.keys():\n",
    "            out[sent] = [edu]\n",
    "        else:\n",
    "            out[sent].append(edu)\n",
    "    return out\n",
    "\n",
    "def get_sent_parent_rel(sentsub, graph):\n",
    "    #draw_graph(sentsub)\n",
    "    for node in sentsub.nodes():\n",
    "        succ = list(graph.successors(node))\n",
    "        # if node is source of arg rel\n",
    "        if succ != [] and succ[0] not in sentsub.nodes():\n",
    "            #print(\"yes, arg from : \" + str(node))\n",
    "            source_edu = node\n",
    "            trg = list(graph.successors(source_edu))\n",
    "            parent_edu = trg[0]\n",
    "            #print(\"to : \" +str(parent_edu))\n",
    "            return (source_edu, parent_edu)\n",
    "    return (None, None)\n",
    "\n",
    "def get_adu(edu, mapping):\n",
    "    return mapping[edu]\n",
    "\n",
    "def get_arg_rel(discrelname):\n",
    "    mapping = {\"attribution\": \"detail\",\n",
    "               \"bg-compare\": \"support\", \n",
    "               \"bg-general\": \"support\", \n",
    "               \"bg-goal\": \"support\",\n",
    "               \"cause\": \"detail\", \n",
    "               \"comparison\": None,\n",
    "               \"contrast\": \"additional\",\n",
    "               \"elab-addition\": \"detail\", \n",
    "               \"elab-aspect\": \"detail\",\n",
    "               \"elab-enum_member\": \"detail\", \n",
    "               \"elab-example\": \"detail\", \n",
    "               \"elab-process_step\": \"detail\", \n",
    "               \"enablement\": \"detail\", \n",
    "               \"evaluation\": \"support\",\n",
    "               \"exp-evidence\": \"support\", \n",
    "               \"exp-reason\": \"detail\", \n",
    "               \"joint\": \"detail\", \n",
    "               \"manner-means\": \"detail\", \n",
    "               \"progression\": \"detail\", \n",
    "               \"result\": \"additionnal\", \n",
    "               \"summary\": \"detail\"}\n",
    "    return mapping[discrelname]\n",
    "    \n",
    "def predict_struct(dg, edussentmapping, labels=False):\n",
    "    \"\"\"\n",
    "     predicts argumentation structure from a graph\n",
    "     and a edussentmapping\n",
    "    \"\"\"\n",
    "    sent_edus = get_sent_edus(edussentmapping)\n",
    "    sent_subs = [dg.subgraph(edus) for k,edus in sent_edus.items()]\n",
    "    \n",
    "    out_g = nx.DiGraph()\n",
    "    out_g.add_nodes_from(range(0,len(sent_subs)-1))\n",
    "    \n",
    "    for sentid, sentsub in enumerate(sent_subs):\n",
    "        (edusource, eduparent) = get_sent_parent_rel(sentsub, dg) # first recovers source, and then parent node\n",
    "        if eduparent is not None and edusource is not None:\n",
    "            aduparent = get_adu(eduparent, edussentmapping)\n",
    "            # calculate arg relation if labels==true\n",
    "            if labels==True:\n",
    "                label = get_arg_rel(dg[edusource][eduparent][\"label\"])\n",
    "            else:\n",
    "                label = dg[edusource][eduparent][\"label\"]\n",
    "            out_g.add_edge(sentid, aduparent, label=label)\n",
    "    return out_g"
   ]
  },
  {
   "cell_type": "code",
   "execution_count": 18,
   "metadata": {},
   "outputs": [],
   "source": [
    "argdiscdtf[\"arg_pred\"] = argdiscdtf.apply(lambda row: predict_struct(row.graph, row.edus_sent_ids), axis=1)"
   ]
  },
  {
   "cell_type": "code",
   "execution_count": 19,
   "metadata": {},
   "outputs": [],
   "source": [
    "# ici le score est très fort\n",
    "# on pourrait considérer assigner quelques points de précision lorsque l'argument a au moins un \n",
    "# ancêtre commun, ce qui veut dire qu'il est rattaché aux mêmes unités mais pas forcément dans\n",
    "# le même ordre\n",
    "argdiscdtf[\"sim_rels\"] = argdiscdtf.apply(lambda row: prop_sim_rels(row.arg_graph, row.arg_pred), axis=1)\n",
    "argdiscdtf[\"sim_dirrels\"] = argdiscdtf.apply(lambda row: prop_sim_rels(row.arg_graph, row.arg_pred, direc=True), axis=1)\n",
    "argdiscdtf[\"prec_dir\"] = argdiscdtf.apply(lambda row: precision(row.arg_pred.edges(), row.arg_graph.edges()), axis=1)\n",
    "argdiscdtf[\"recall_dir\"] = argdiscdtf.apply(lambda row: rappel(row.arg_pred.edges(), row.arg_graph.edges()), axis=1)\n",
    "\n",
    "\n",
    "\n",
    "argdiscdtf[\"prec_dir\"] = argdiscdtf.apply(lambda row: precision(row.arg_graph.edges(), row.arg_pred.edges()), axis=1)\n",
    "argdiscdtf[\"recall_dir\"] = argdiscdtf.apply(lambda row: rappel(row.arg_graph.edges(), row.arg_pred.edges()), axis=1)\n",
    "\n",
    "\n",
    "argdiscdtf[\"prec_dir\"] = argdiscdtf.apply(lambda row: precision(row.arg_graph.edges(), row.arg_pred.edges()), axis=1)\n",
    "argdiscdtf[\"recall_dir\"] = argdiscdtf.apply(lambda row: rappel(row.arg_graph.edges(), row.arg_pred.edges()), axis=1)\n",
    "\n",
    "\n",
    "argdiscdtf[\"prec_undir\"] = argdiscdtf.apply(lambda row: precision([set(x) for x in row.arg_graph.edges()], [set(x) for x in row.arg_pred.edges()]), axis=1)\n",
    "argdiscdtf[\"recall_undir\"] = argdiscdtf.apply(lambda row: rappel([set(x) for x in row.arg_graph.edges()], [set(x) for x in row.arg_pred.edges()]), axis=1)\n",
    "\n",
    "#argdisc[\"sim_labels\"] = argdisc.apply(lambda row: prop_sim_rels(row.arg_graph, row.arg_pred, direc=True), axis=1)"
   ]
  },
  {
   "cell_type": "code",
   "execution_count": 20,
   "metadata": {},
   "outputs": [
    {
     "data": {
      "text/plain": [
       "count    60.000000\n",
       "mean      0.565714\n",
       "std       0.319563\n",
       "min       0.000000\n",
       "25%       0.296429\n",
       "50%       0.500000\n",
       "75%       0.875000\n",
       "max       1.000000\n",
       "Name: prec_dir, dtype: float64"
      ]
     },
     "execution_count": 20,
     "metadata": {},
     "output_type": "execute_result"
    }
   ],
   "source": [
    "argdiscdtf[\"prec_dir\"].describe()"
   ]
  },
  {
   "cell_type": "code",
   "execution_count": 21,
   "metadata": {},
   "outputs": [
    {
     "data": {
      "text/plain": [
       "count    60.000000\n",
       "mean      0.535754\n",
       "std       0.327063\n",
       "min       0.000000\n",
       "25%       0.276786\n",
       "50%       0.500000\n",
       "75%       0.781250\n",
       "max       1.000000\n",
       "Name: recall_dir, dtype: float64"
      ]
     },
     "execution_count": 21,
     "metadata": {},
     "output_type": "execute_result"
    }
   ],
   "source": [
    "argdiscdtf[\"recall_dir\"].describe()"
   ]
  },
  {
   "cell_type": "code",
   "execution_count": 22,
   "metadata": {},
   "outputs": [],
   "source": [
    "## look @ rslts\n",
    "idx = 11\n",
    "docname = argdiscdtf.index[idx]\n",
    "pred = argdiscdtf[\"arg_pred\"][idx]\n",
    "true = argdiscdtf[\"arg_graph\"][idx]\n",
    "dg = argdiscdtf[\"graph\"][idx]\n",
    "mapp = argdiscdtf[\"edus_sent_ids\"][idx]\n",
    "sim = argdiscdtf[\"sim_rels\"][idx]\n",
    "simdir = argdiscdtf[\"sim_dirrels\"][idx]\n",
    "simdir = argdiscdtf[\"sim_dirrels\"][idx]"
   ]
  },
  {
   "cell_type": "code",
   "execution_count": 23,
   "metadata": {},
   "outputs": [],
   "source": [
    "# Predict labels from discourse structure"
   ]
  },
  {
   "cell_type": "code",
   "execution_count": 24,
   "metadata": {},
   "outputs": [
    {
     "data": {
      "text/plain": [
       "Index(['segments', 'edus_sent_ids', 'graph', 'arg_graph', 'arg_annot',\n",
       "       'arg_types', 'arg_sents', 'segtxt', 'argtxt', 'edus_adus_mapping',\n",
       "       'adus_edus_mapping', 'sents_edus_mapping', 'true', 'pred', 'arg_pred',\n",
       "       'sim_rels', 'sim_dirrels', 'prec_dir', 'recall_dir', 'prec_undir',\n",
       "       'recall_undir'],\n",
       "      dtype='object')"
      ]
     },
     "execution_count": 24,
     "metadata": {},
     "output_type": "execute_result"
    }
   ],
   "source": [
    "argdiscdtf.columns"
   ]
  },
  {
   "cell_type": "code",
   "execution_count": 28,
   "metadata": {},
   "outputs": [],
   "source": [
    "argdiscdtf[\"arg_labels_pred\"] = argdiscdtf.apply(lambda row: predict_struct(row.graph, row.edus_sent_ids, labels=True), axis=1)"
   ]
  },
  {
   "cell_type": "code",
   "execution_count": 29,
   "metadata": {},
   "outputs": [],
   "source": [
    "argdiscdtf[\"sim_rels\"] = argdiscdtf.apply(lambda row: prop_sim_rels(row.arg_graph, row.arg_labels_pred, labels=True), axis=1)\n",
    "argdiscdtf[\"prec_dir\"] = argdiscdtf.apply(lambda row: precision(row.arg_labels_pred.edges(data=True), row.arg_graph.edges(data=True)), axis=1)\n",
    "argdiscdtf[\"recall_dir\"] = argdiscdtf.apply(lambda row: rappel(row.arg_labels_pred.edges(data=True), row.arg_graph.edges(data=True)), axis=1)"
   ]
  },
  {
   "cell_type": "code",
   "execution_count": 30,
   "metadata": {},
   "outputs": [
    {
     "data": {
      "text/plain": [
       "count    60.000000\n",
       "mean      0.470119\n",
       "std       0.297309\n",
       "min       0.000000\n",
       "25%       0.250000\n",
       "50%       0.500000\n",
       "75%       0.666667\n",
       "max       1.000000\n",
       "Name: recall_dir, dtype: float64"
      ]
     },
     "execution_count": 30,
     "metadata": {},
     "output_type": "execute_result"
    }
   ],
   "source": [
    "argdiscdtf[\"recall_dir\"].describe()"
   ]
  },
  {
   "cell_type": "code",
   "execution_count": 31,
   "metadata": {},
   "outputs": [
    {
     "data": {
      "text/plain": [
       "count    60.000000\n",
       "mean      0.451587\n",
       "std       0.304562\n",
       "min       0.000000\n",
       "25%       0.200000\n",
       "50%       0.464286\n",
       "75%       0.666667\n",
       "max       1.000000\n",
       "Name: prec_dir, dtype: float64"
      ]
     },
     "execution_count": 31,
     "metadata": {},
     "output_type": "execute_result"
    }
   ],
   "source": [
    "argdiscdtf[\"prec_dir\"].describe()"
   ]
  },
  {
   "cell_type": "markdown",
   "metadata": {},
   "source": [
    "## Draft below"
   ]
  },
  {
   "cell_type": "code",
   "execution_count": 32,
   "metadata": {},
   "outputs": [],
   "source": [
    "## Look at docs that have diff nb args"
   ]
  },
  {
   "cell_type": "code",
   "execution_count": 33,
   "metadata": {},
   "outputs": [],
   "source": [
    "def has_same_nb_args(g1, g2):\n",
    "    return len(g1.nodes()) == len(g2.nodes())"
   ]
  },
  {
   "cell_type": "code",
   "execution_count": 34,
   "metadata": {},
   "outputs": [
    {
     "ename": "NameError",
     "evalue": "name 'argdisc' is not defined",
     "output_type": "error",
     "traceback": [
      "\u001b[0;31m---------------------------------------------------------------------------\u001b[0m",
      "\u001b[0;31mNameError\u001b[0m                                 Traceback (most recent call last)",
      "\u001b[0;32m<ipython-input-34-93066a98b99c>\u001b[0m in \u001b[0;36m<module>\u001b[0;34m\u001b[0m\n\u001b[0;32m----> 1\u001b[0;31m \u001b[0margdisc\u001b[0m\u001b[0;34m[\u001b[0m\u001b[0;34m\"diff_nb_args\"\u001b[0m\u001b[0;34m]\u001b[0m \u001b[0;34m=\u001b[0m  \u001b[0margdisc\u001b[0m\u001b[0;34m.\u001b[0m\u001b[0mapply\u001b[0m\u001b[0;34m(\u001b[0m\u001b[0;32mlambda\u001b[0m \u001b[0mrow\u001b[0m\u001b[0;34m:\u001b[0m \u001b[0;32mnot\u001b[0m\u001b[0;34m(\u001b[0m\u001b[0mhas_same_nb_args\u001b[0m\u001b[0;34m(\u001b[0m\u001b[0mrow\u001b[0m\u001b[0;34m.\u001b[0m\u001b[0marg_pred\u001b[0m\u001b[0;34m,\u001b[0m \u001b[0mrow\u001b[0m\u001b[0;34m.\u001b[0m\u001b[0marg_graph\u001b[0m\u001b[0;34m)\u001b[0m\u001b[0;34m)\u001b[0m\u001b[0;34m,\u001b[0m \u001b[0maxis\u001b[0m\u001b[0;34m=\u001b[0m\u001b[0;36m1\u001b[0m\u001b[0;34m)\u001b[0m\u001b[0;34m\u001b[0m\u001b[0;34m\u001b[0m\u001b[0m\n\u001b[0m\u001b[1;32m      2\u001b[0m \u001b[0margdisc\u001b[0m\u001b[0;34m[\u001b[0m\u001b[0;34m\"same_nb_args\"\u001b[0m\u001b[0;34m]\u001b[0m \u001b[0;34m=\u001b[0m  \u001b[0margdisc\u001b[0m\u001b[0;34m.\u001b[0m\u001b[0mapply\u001b[0m\u001b[0;34m(\u001b[0m\u001b[0;32mlambda\u001b[0m \u001b[0mrow\u001b[0m\u001b[0;34m:\u001b[0m \u001b[0mhas_same_nb_args\u001b[0m\u001b[0;34m(\u001b[0m\u001b[0mrow\u001b[0m\u001b[0;34m.\u001b[0m\u001b[0marg_pred\u001b[0m\u001b[0;34m,\u001b[0m \u001b[0mrow\u001b[0m\u001b[0;34m.\u001b[0m\u001b[0marg_graph\u001b[0m\u001b[0;34m)\u001b[0m\u001b[0;34m,\u001b[0m \u001b[0maxis\u001b[0m\u001b[0;34m=\u001b[0m\u001b[0;36m1\u001b[0m\u001b[0;34m)\u001b[0m\u001b[0;34m\u001b[0m\u001b[0;34m\u001b[0m\u001b[0m\n",
      "\u001b[0;31mNameError\u001b[0m: name 'argdisc' is not defined"
     ]
    }
   ],
   "source": [
    "argdisc[\"diff_nb_args\"] =  argdisc.apply(lambda row: not(has_same_nb_args(row.arg_pred, row.arg_graph)), axis=1)\n",
    "argdisc[\"same_nb_args\"] =  argdisc.apply(lambda row: has_same_nb_args(row.arg_pred, row.arg_graph), axis=1)"
   ]
  },
  {
   "cell_type": "code",
   "execution_count": 35,
   "metadata": {},
   "outputs": [
    {
     "ename": "NameError",
     "evalue": "name 'argdisc' is not defined",
     "output_type": "error",
     "traceback": [
      "\u001b[0;31m---------------------------------------------------------------------------\u001b[0m",
      "\u001b[0;31mNameError\u001b[0m                                 Traceback (most recent call last)",
      "\u001b[0;32m<ipython-input-35-bc0637e4fea3>\u001b[0m in \u001b[0;36m<module>\u001b[0;34m\u001b[0m\n\u001b[0;32m----> 1\u001b[0;31m \u001b[0mlen\u001b[0m\u001b[0;34m(\u001b[0m\u001b[0margdisc\u001b[0m\u001b[0;34m[\u001b[0m\u001b[0margdisc\u001b[0m\u001b[0;34m[\u001b[0m\u001b[0;34m\"same_nb_args\"\u001b[0m\u001b[0;34m]\u001b[0m\u001b[0;34m]\u001b[0m\u001b[0;34m[\u001b[0m\u001b[0;34m\"arg_graph\"\u001b[0m\u001b[0;34m]\u001b[0m\u001b[0;34m[\u001b[0m\u001b[0;36m0\u001b[0m\u001b[0;34m]\u001b[0m\u001b[0;34m)\u001b[0m\u001b[0;34m\u001b[0m\u001b[0;34m\u001b[0m\u001b[0m\n\u001b[0m",
      "\u001b[0;31mNameError\u001b[0m: name 'argdisc' is not defined"
     ]
    }
   ],
   "source": [
    "len(argdisc[argdisc[\"same_nb_args\"]][\"arg_graph\"][0])"
   ]
  },
  {
   "cell_type": "code",
   "execution_count": null,
   "metadata": {},
   "outputs": [],
   "source": [
    "len(argdisc[argdisc[\"diff_nb_args\"]][\"arg_graph\"][0])"
   ]
  },
  {
   "cell_type": "code",
   "execution_count": null,
   "metadata": {},
   "outputs": [],
   "source": [
    "draw_graph(argdisc[argdisc[\"same_nb_args\"]][\"arg_graph\"][0])\n",
    "draw_graph(argdisc[argdisc[\"same_nb_args\"]][\"arg_pred\"][0])"
   ]
  },
  {
   "cell_type": "code",
   "execution_count": null,
   "metadata": {},
   "outputs": [],
   "source": [
    "argdisc[argdisc[\"same_nb_args\"]][\"sim_rels\"].describe()"
   ]
  },
  {
   "cell_type": "code",
   "execution_count": null,
   "metadata": {},
   "outputs": [],
   "source": [
    "argdisc[argdisc[\"same_nb_args\"]][\"sim_dirrels\"].describe()"
   ]
  },
  {
   "cell_type": "code",
   "execution_count": null,
   "metadata": {},
   "outputs": [],
   "source": [
    "argdisc[argdisc[\"same_nb_args\"]][\"sim_rels\"].describe()"
   ]
  },
  {
   "cell_type": "code",
   "execution_count": null,
   "metadata": {},
   "outputs": [],
   "source": [
    "argdisc[argdisc[\"diff_nb_args\"]][\"sim_rels\"].describe()"
   ]
  },
  {
   "cell_type": "code",
   "execution_count": null,
   "metadata": {},
   "outputs": [],
   "source": [
    "argdisc[argdisc[\"diff_nb_args\"]][\"sim_dirrels\"].describe()"
   ]
  },
  {
   "cell_type": "code",
   "execution_count": null,
   "metadata": {},
   "outputs": [],
   "source": []
  },
  {
   "cell_type": "code",
   "execution_count": null,
   "metadata": {},
   "outputs": [],
   "source": []
  }
 ],
 "metadata": {
  "kernelspec": {
   "display_name": "venv_movesdist",
   "language": "python",
   "name": "venv_movesdist"
  },
  "language_info": {
   "codemirror_mode": {
    "name": "ipython",
    "version": 3
   },
   "file_extension": ".py",
   "mimetype": "text/x-python",
   "name": "python",
   "nbconvert_exporter": "python",
   "pygments_lexer": "ipython3",
   "version": "3.7.6"
  }
 },
 "nbformat": 4,
 "nbformat_minor": 4
}
