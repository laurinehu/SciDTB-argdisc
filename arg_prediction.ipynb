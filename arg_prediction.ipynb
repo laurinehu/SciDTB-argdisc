{
 "cells": [
  {
   "cell_type": "code",
   "execution_count": 1,
   "metadata": {},
   "outputs": [],
   "source": [
    "%load_ext autoreload\n",
    "%autoreload 2  # Autoreload all modules\n",
    "%matplotlib inline\n",
    "\n",
    "import warnings\n",
    "warnings.filterwarnings('ignore')\n",
    "\n",
    "# libs\n",
    "import glob\n",
    "import pandas as pd\n",
    "import random\n",
    "import pprint\n",
    "pp = pprint.PrettyPrinter(indent=4)\n",
    "#import importlib\n",
    "\n",
    "import itertools\n",
    "from collections import Counter\n",
    "from collections import OrderedDict\n",
    "import matplotlib.pyplot as plt\n",
    "import numpy as np\n",
    "\n",
    "from nltk import sent_tokenize\n",
    "from nltk.tokenize import word_tokenize\n",
    "\n",
    "import networkx as nx\n",
    "\n",
    "from tqdm import tqdm\n",
    "\n",
    "# perso\n",
    "import sys\n",
    "sys.path.append('utils/')\n",
    "sys.path.append('argdisc/')\n",
    "\n",
    "sys.path.insert(1, '/Users/lhuber/Documents/Research/Phd/workdir/SciDTB/code/probing/')\n",
    "\n",
    "from data_mgmt import *\n",
    "from graphs_utils import *\n",
    "from moves_utils import *\n",
    "from corpus_utils import Corpus\n",
    "from preprocessing_utils import *\n",
    "from arg_ana import *\n",
    "from arg_disc_ana import *\n",
    "from gspan import *"
   ]
  },
  {
   "cell_type": "markdown",
   "metadata": {},
   "source": [
    "# Load Data"
   ]
  },
  {
   "cell_type": "code",
   "execution_count": 2,
   "metadata": {},
   "outputs": [],
   "source": [
    "# Import corpus to dataframe (text and units)\n",
    "\n",
    "# the corpus is organized following 3 directories\n",
    "# in each directory, some files are annotated by multiple annotators\n",
    "# we take all the uniq documents (just 1 annotator)\n",
    "pathtodirtrain = \"data/train/\"\n",
    "pathtodirtest  = \"data/test/gold/\"\n",
    "pathtodirdev   = \"data/dev/gold/\"\n",
    "#pathtographs   = \"../data/SciDTB/graphimages/\"\n",
    "#path2properties = \"../data/SciDTB_articles_properties.csv\"\n",
    "\n",
    "\n",
    "# considere only 1 annotator (taken randomly)\n",
    "allano = \"*.dep\"\n",
    "files = glob.glob(pathtodirtrain+allano) # for train keep only one annotator\n",
    "# remove duplicate documents (other annotators)\n",
    "files = [x for x in files if \"anno2\" not in x and \"anno3\" not in x] \n",
    "files += glob.glob(pathtodirtest+allano)\n",
    "files += glob.glob(pathtodirdev+allano)\n",
    "\n",
    "c = Corpus(files=files)"
   ]
  },
  {
   "cell_type": "code",
   "execution_count": 3,
   "metadata": {},
   "outputs": [],
   "source": [
    "arg_annots = \"data/scidtb_argmin_annotations/*.conll.good\"\n",
    "basename = \"data/scidtb_argmin_annotations/\"\n",
    "endname = \"-fexp-corpus.conll.good\"\n",
    "arg_files = [x for x in glob.glob(arg_annots)]\n",
    "\n",
    "docs = []\n",
    "for file in arg_files:\n",
    "    docname = file.replace(basename, \"\")\n",
    "    docname = docname.replace(endname, \"\")\n",
    "    docs.append(docname)\n",
    "    \n",
    "argdiscdtf = c.corpus.loc[docs]"
   ]
  },
  {
   "cell_type": "code",
   "execution_count": 4,
   "metadata": {},
   "outputs": [],
   "source": [
    "argdiscdtf[\"arg_annot\"] = argdiscdtf.apply(lambda x: get_arg_annot(basename+x.name+endname), axis=1)\n",
    "argdiscdtf[\"arg_graph\"] = argdiscdtf.apply(lambda x: get_arg_graph(x.arg_annot), axis=1)\n",
    "argdiscdtf[\"arg_sents\"] = argdiscdtf.apply(lambda x: get_arg_sents(get_arg_annot(basename+x.name+endname)), axis=1)\n",
    "argdiscdtf[\"segtxt\"] = argdiscdtf.apply(lambda row: preprocess(row.segments), axis=1)\n",
    "argdiscdtf[\"argtxt\"] = argdiscdtf.apply(lambda row: preprocess(row.arg_sents), axis=1)\n",
    "argdiscdtf[\"edus_adus_mapping\"] = argdiscdtf.apply(lambda row: to_edus_adus_mapping(row.argtxt, row.segtxt), axis=1)\n",
    "argdiscdtf[\"adus_edus_mapping\"] = argdiscdtf.apply(lambda row: remove_nones(to_adus_edus_mapping(row.edus_adus_mapping)), axis=1)\n",
    "argdiscdtf[\"sents_edus_mapping\"] = argdiscdtf.apply(lambda row: to_sent_edus_mapping(row.edus_sent_ids), axis=1)\n",
    "docnames = argdiscdtf.index.to_list()"
   ]
  },
  {
   "cell_type": "markdown",
   "metadata": {},
   "source": [
    "# Data Preparation"
   ]
  },
  {
   "cell_type": "code",
   "execution_count": 5,
   "metadata": {},
   "outputs": [],
   "source": [
    "adusentdtf = argdiscdtf[[\"segments\", \"edus_adus_mapping\", \n",
    "                         \"adus_edus_mapping\", \"sents_edus_mapping\"]]"
   ]
  },
  {
   "cell_type": "markdown",
   "metadata": {},
   "source": [
    "## Prepare Arg / Sent data"
   ]
  },
  {
   "cell_type": "code",
   "execution_count": 6,
   "metadata": {},
   "outputs": [],
   "source": [
    "adusentdtf[\"has_sim_arg_sent\"] = adusentdtf.apply(lambda row: has_sim_seg(row.adus_edus_mapping, row.sents_edus_mapping), axis=1)\n",
    "adusentdtf[\"sim_arg_sent\"] = adusentdtf.apply(lambda row: sim_seg(row.adus_edus_mapping, row.sents_edus_mapping), axis=1)\n",
    "adusentdtf[\"prop_sim_arg_sent\"] = adusentdtf.apply(lambda row: prop_sim_seg(row.sim_arg_sent), axis=1)"
   ]
  },
  {
   "cell_type": "code",
   "execution_count": 7,
   "metadata": {},
   "outputs": [],
   "source": [
    "notmapped = adusentdtf[adusentdtf[\"prop_sim_arg_sent\"] != 1]"
   ]
  },
  {
   "cell_type": "code",
   "execution_count": 8,
   "metadata": {},
   "outputs": [],
   "source": [
    "notmapped = notmapped[[\"adus_edus_mapping\", \"sents_edus_mapping\", \"sim_arg_sent\"]]"
   ]
  },
  {
   "cell_type": "code",
   "execution_count": 9,
   "metadata": {},
   "outputs": [],
   "source": [
    "notmapped[\"notmapped_args\"] = notmapped.apply(lambda row: {k:v for k,v in row.sim_arg_sent.items() if v == False}, axis=1)"
   ]
  },
  {
   "cell_type": "code",
   "execution_count": 10,
   "metadata": {},
   "outputs": [],
   "source": [
    "notmapped[\"notmapped_args\"] = notmapped.apply(lambda row: {k: row.adus_edus_mapping[k] for k,v in row.notmapped_args.items()}, axis=1)"
   ]
  },
  {
   "cell_type": "markdown",
   "metadata": {},
   "source": [
    "# Prepare Type data"
   ]
  },
  {
   "cell_type": "code",
   "execution_count": 11,
   "metadata": {},
   "outputs": [],
   "source": [
    "typedtf = argdiscdtf[[\"adus_edus_mapping\", \"graph\"]] "
   ]
  },
  {
   "cell_type": "code",
   "execution_count": 12,
   "metadata": {},
   "outputs": [],
   "source": [
    "typedtf[\"arg_annot\"] = argdiscdtf[\"arg_annot\"]"
   ]
  },
  {
   "cell_type": "code",
   "execution_count": 13,
   "metadata": {},
   "outputs": [],
   "source": [
    "typedtf[\"arg_types\"] = typedtf.apply(lambda x: get_arg_types(x.arg_annot), axis=1)"
   ]
  },
  {
   "cell_type": "code",
   "execution_count": 14,
   "metadata": {},
   "outputs": [],
   "source": [
    "typedtf[\"arg_subs\"] = typedtf.apply(lambda x: get_arg_subs(x.adus_edus_mapping, x.graph), axis=1)"
   ]
  },
  {
   "cell_type": "code",
   "execution_count": 15,
   "metadata": {},
   "outputs": [],
   "source": [
    "assert [len(x) for x in typedtf[\"arg_types\"]] == [len(x) for x in typedtf[\"arg_subs\"]]"
   ]
  },
  {
   "cell_type": "markdown",
   "metadata": {},
   "source": [
    "# Analysis"
   ]
  },
  {
   "cell_type": "markdown",
   "metadata": {},
   "source": [
    "## Arg / Sent segments boundaries analysis"
   ]
  },
  {
   "cell_type": "markdown",
   "metadata": {},
   "source": [
    "### Number of args that do not map with sentence"
   ]
  },
  {
   "cell_type": "code",
   "execution_count": 16,
   "metadata": {},
   "outputs": [
    {
     "data": {
      "text/plain": [
       "59"
      ]
     },
     "execution_count": 16,
     "metadata": {},
     "output_type": "execute_result"
    }
   ],
   "source": [
    "sum([len(x) for x in notmapped[\"notmapped_args\"]])"
   ]
  },
  {
   "cell_type": "markdown",
   "metadata": {},
   "source": [
    "### Calculate arg and sentence mapping"
   ]
  },
  {
   "cell_type": "code",
   "execution_count": 17,
   "metadata": {},
   "outputs": [],
   "source": [
    "sents = list(notmapped[\"sents_edus_mapping\"])\n",
    "adus = list(notmapped[\"notmapped_args\"])\n",
    "docnames = notmapped.index.to_list()\n",
    "sent_mappings = [get_sent_mapping(a,s) for a,s in zip(adus, sents)]\n",
    "arg_mappings = [get_adu_mapping(a,s) for a,s in zip(adus, sents)]"
   ]
  },
  {
   "cell_type": "markdown",
   "metadata": {},
   "source": [
    "### Args bigger than sentences"
   ]
  },
  {
   "cell_type": "code",
   "execution_count": 18,
   "metadata": {},
   "outputs": [
    {
     "name": "stdout",
     "output_type": "stream",
     "text": [
      "D14-1043\n",
      "{0: [0, 1]}\n",
      "D14-1020\n",
      "{1: [1, 2]}\n"
     ]
    }
   ],
   "source": [
    "for i, d in enumerate(arg_mappings):\n",
    "    if d != {}:\n",
    "        print(docnames[i])\n",
    "        print(d)"
   ]
  },
  {
   "cell_type": "markdown",
   "metadata": {},
   "source": [
    "### Sentences bigger then args"
   ]
  },
  {
   "cell_type": "markdown",
   "metadata": {},
   "source": [
    "#### Plot distrib len sents (in nb of edus) global"
   ]
  },
  {
   "cell_type": "code",
   "execution_count": 19,
   "metadata": {},
   "outputs": [],
   "source": [
    "all_args_edus = [list(doc.values()) for doc in list(adusentdtf[\"sents_edus_mapping\"])]"
   ]
  },
  {
   "cell_type": "code",
   "execution_count": 20,
   "metadata": {},
   "outputs": [],
   "source": [
    "all_args_edus_lens = [len(x) for doc in all_args_edus for x in doc]"
   ]
  },
  {
   "cell_type": "code",
   "execution_count": 21,
   "metadata": {},
   "outputs": [
    {
     "data": {
      "text/plain": [
       "(array([ 65., 120.,  75.,  38.,   0.,  15.,  11.,   4.,   0.,   2.]),\n",
       " array([1. , 1.8, 2.6, 3.4, 4.2, 5. , 5.8, 6.6, 7.4, 8.2, 9. ]),\n",
       " <BarContainer object of 10 artists>)"
      ]
     },
     "execution_count": 21,
     "metadata": {},
     "output_type": "execute_result"
    },
    {
     "data": {
      "image/png": "[encoded data removed]",
      "text/plain": [
       "<Figure size 432x288 with 1 Axes>"
      ]
     },
     "metadata": {
      "needs_background": "light"
     },
     "output_type": "display_data"
    }
   ],
   "source": [
    "plt.hist(all_args_edus_lens)"
   ]
  },
  {
   "cell_type": "markdown",
   "metadata": {},
   "source": [
    "#### Vs distrib len sents (in nb of edus) for sentences having than 1 arg"
   ]
  },
  {
   "cell_type": "code",
   "execution_count": 22,
   "metadata": {},
   "outputs": [],
   "source": [
    "## Calculate number of edus for each sentence made of more than 1 argument\n",
    "nb_edus_sent_mapping = []\n",
    "edus_sent_mapping = []\n",
    "docs = []\n",
    "for i, smap in enumerate(sent_mappings):\n",
    "    doc = docnames[i]\n",
    "    if smap != {}:\n",
    "        #print(sents[i][])\n",
    "        for sid, sent in smap.items():\n",
    "            docs.append(docnames[i])\n",
    "            nb_edus_sent_mapping.append(len(sents[i][sid]))\n",
    "            edus_sent_mapping.append((doc, sents[i][sid]))\n"
   ]
  },
  {
   "cell_type": "code",
   "execution_count": 23,
   "metadata": {},
   "outputs": [
    {
     "data": {
      "text/plain": [
       "Counter({6: 6, 4: 2, 3: 8, 5: 4, 2: 9, 7: 1})"
      ]
     },
     "execution_count": 23,
     "metadata": {},
     "output_type": "execute_result"
    }
   ],
   "source": [
    "Counter(nb_edus_sent_mapping)"
   ]
  },
  {
   "cell_type": "code",
   "execution_count": 24,
   "metadata": {},
   "outputs": [
    {
     "data": {
      "text/plain": [
       "(array([9., 0., 8., 0., 2., 0., 4., 0., 6., 1.]),\n",
       " array([2. , 2.5, 3. , 3.5, 4. , 4.5, 5. , 5.5, 6. , 6.5, 7. ]),\n",
       " <BarContainer object of 10 artists>)"
      ]
     },
     "execution_count": 24,
     "metadata": {},
     "output_type": "execute_result"
    },
    {
     "data": {
      "image/png": "[encoded data removed]",
      "text/plain": [
       "<Figure size 432x288 with 1 Axes>"
      ]
     },
     "metadata": {
      "needs_background": "light"
     },
     "output_type": "display_data"
    }
   ],
   "source": [
    "plt.hist(nb_edus_sent_mapping)"
   ]
  },
  {
   "cell_type": "markdown",
   "metadata": {},
   "source": [
    "## Argumentation discourse structure analysis"
   ]
  },
  {
   "cell_type": "code",
   "execution_count": 25,
   "metadata": {},
   "outputs": [],
   "source": [
    "mappings = argdiscdtf[\"adus_edus_mapping\"]\n",
    "graphs = argdiscdtf.graph"
   ]
  },
  {
   "cell_type": "code",
   "execution_count": 26,
   "metadata": {},
   "outputs": [],
   "source": [
    "mappings = argdiscdtf[\"adus_edus_mapping\"]\n",
    "graphs = argdiscdtf.graph\n",
    "macrographs = [get_arg_macrog(m, g) for m,g in zip(mappings, graphs)]\n",
    "arggraphs = [get_arg_graph(x) for x in argdiscdtf[\"arg_annot\"]]"
   ]
  },
  {
   "cell_type": "markdown",
   "metadata": {},
   "source": [
    "### Structure"
   ]
  },
  {
   "cell_type": "code",
   "execution_count": 27,
   "metadata": {},
   "outputs": [],
   "source": [
    "macrocomp = pd.DataFrame({\"arggraph\": arggraphs,\n",
    "                          \"discmacrograph\": macrographs})"
   ]
  },
  {
   "cell_type": "code",
   "execution_count": 28,
   "metadata": {},
   "outputs": [],
   "source": [
    "macrocomp[\"sim_dirrels\"] = macrocomp.apply(lambda row: prop_sim_rels(row.arggraph, row.discmacrograph, direc=True), axis=1)\n",
    "macrocomp[\"sim_rels\"] = macrocomp.apply(lambda row: prop_sim_rels(row.arggraph, row.discmacrograph), axis=1)\n",
    "macrocomp[\"sim_labrels\"] = macrocomp.apply(lambda row: prop_sim_rels(row.arggraph, row.discmacrograph, labels=True), axis=1)"
   ]
  },
  {
   "cell_type": "markdown",
   "metadata": {},
   "source": [
    "#### Undirected"
   ]
  },
  {
   "cell_type": "code",
   "execution_count": 29,
   "metadata": {},
   "outputs": [
    {
     "data": {
      "text/plain": [
       "count    60.000000\n",
       "mean      0.772579\n",
       "std       0.194196\n",
       "min       0.250000\n",
       "25%       0.666667\n",
       "50%       0.750000\n",
       "75%       1.000000\n",
       "max       1.000000\n",
       "Name: sim_rels, dtype: float64"
      ]
     },
     "execution_count": 29,
     "metadata": {},
     "output_type": "execute_result"
    }
   ],
   "source": [
    "macrocomp[\"sim_rels\"].describe()"
   ]
  },
  {
   "cell_type": "markdown",
   "metadata": {},
   "source": [
    "#### Directed"
   ]
  },
  {
   "cell_type": "code",
   "execution_count": 30,
   "metadata": {},
   "outputs": [
    {
     "data": {
      "text/plain": [
       "count    60.000000\n",
       "mean      0.668135\n",
       "std       0.261377\n",
       "min       0.000000\n",
       "25%       0.500000\n",
       "50%       0.666667\n",
       "75%       1.000000\n",
       "max       1.000000\n",
       "Name: sim_dirrels, dtype: float64"
      ]
     },
     "execution_count": 30,
     "metadata": {},
     "output_type": "execute_result"
    }
   ],
   "source": [
    "macrocomp[\"sim_dirrels\"].describe()"
   ]
  },
  {
   "cell_type": "markdown",
   "metadata": {},
   "source": [
    "### Labels"
   ]
  },
  {
   "cell_type": "code",
   "execution_count": 31,
   "metadata": {},
   "outputs": [],
   "source": [
    "mappings = [rels_mapping(mg, ag) for mg, ag in zip(macrographs, arggraphs)]\n",
    "merged_map = merge_dict(mappings)\n",
    "merge_map_count = {k: dict(Counter(flat(v))) for k,v in merged_map.items()}"
   ]
  },
  {
   "cell_type": "code",
   "execution_count": 32,
   "metadata": {},
   "outputs": [
    {
     "data": {
      "text/plain": [
       "{'elab-addition': {'detail': 25, 'support': 11},\n",
       " 'elab-process_step': {'detail': 7},\n",
       " 'evaluation': {'detail': 1, 'support': 47},\n",
       " 'result': {'additional': 4, 'detail': 1, 'support': 1},\n",
       " 'bg-goal': {'support': 10},\n",
       " 'elab-aspect': {'detail': 22, 'support': 4},\n",
       " 'progression': {'detail': 6},\n",
       " 'manner-means': {'detail': 18, 'support': 1},\n",
       " 'joint': {'detail': 4},\n",
       " 'bg-compare': {'support': 8},\n",
       " 'bg-general': {'support': 2, 'detail': 1},\n",
       " 'summary': {'detail': 1, 'support': 1},\n",
       " 'exp-evidence': {'support': 5},\n",
       " 'enablement': {'detail': 1},\n",
       " 'exp-reason': {'detail': 1},\n",
       " 'contrast': {'additional': 3},\n",
       " 'elab-example': {'detail': 1},\n",
       " 'attribution': {'detail': 1},\n",
       " 'cause': {'additional': 1},\n",
       " 'elab-enum_member': {'detail': 1}}"
      ]
     },
     "execution_count": 32,
     "metadata": {},
     "output_type": "execute_result"
    }
   ],
   "source": [
    "merge_map_count"
   ]
  },
  {
   "cell_type": "markdown",
   "metadata": {},
   "source": [
    "#### Elab-addition"
   ]
  },
  {
   "cell_type": "code",
   "execution_count": 33,
   "metadata": {},
   "outputs": [],
   "source": [
    "docs_with_elab_add = []\n",
    "for docname, m in zip(docnames, mappings):\n",
    "    if \"elab-addition\" in m.keys():\n",
    "        docs_with_elab_add.append(docname)"
   ]
  },
  {
   "cell_type": "code",
   "execution_count": 34,
   "metadata": {},
   "outputs": [],
   "source": [
    "argdiscdtf[\"disc_macro_graph\"] = macrographs \n",
    "elabdtf = argdiscdtf.loc[docs_with_elab_add]\n",
    "elabdtf = elabdtf[[\"arg_graph\", \"graph\", \"disc_macro_graph\"]]"
   ]
  },
  {
   "cell_type": "markdown",
   "metadata": {},
   "source": [
    "#### Distrib mapping based on position in tree"
   ]
  },
  {
   "cell_type": "code",
   "execution_count": 35,
   "metadata": {},
   "outputs": [],
   "source": [
    "root_rels = []\n",
    "for doc, gphs in elabdtf.iterrows():\n",
    "    arg = gphs[\"arg_graph\"]\n",
    "    disc = gphs[\"disc_macro_graph\"]\n",
    "    root_rels.append(elab_root_rels(arg, disc))\n",
    "#print(root_rels)\n",
    "elabdtf[\"root_elabs\"] = root_rels"
   ]
  },
  {
   "cell_type": "code",
   "execution_count": 36,
   "metadata": {},
   "outputs": [
    {
     "data": {
      "text/plain": [
       "docname\n",
       "D14-1045           []\n",
       "D14-1002           []\n",
       "D14-1041       [None]\n",
       "D14-1034     [detail]\n",
       "D14-1024    [support]\n",
       "D14-1056     [detail]\n",
       "D14-1052     [detail]\n",
       "D14-1016           []\n",
       "Name: root_elabs, dtype: object"
      ]
     },
     "execution_count": 36,
     "metadata": {},
     "output_type": "execute_result"
    }
   ],
   "source": [
    "elabdtf[\"root_elabs\"] "
   ]
  },
  {
   "cell_type": "markdown",
   "metadata": {},
   "source": [
    "#### Distrib mapping based on relation sequence"
   ]
  },
  {
   "cell_type": "code",
   "execution_count": 37,
   "metadata": {},
   "outputs": [],
   "source": [
    "#for doc, gphs in elabdtf.iterrows():\n",
    "    #print(doc)\n",
    "    #draw_graph(gphs[\"arg_graph\"])\n",
    "    #draw_graph(gphs[\"disc_macro_graph\"])"
   ]
  },
  {
   "cell_type": "markdown",
   "metadata": {},
   "source": [
    "## Argumentation type analysis"
   ]
  },
  {
   "cell_type": "code",
   "execution_count": 38,
   "metadata": {},
   "outputs": [],
   "source": [
    "args_per_type = {}\n",
    "for subs, types in zip(typedtf[\"arg_subs\"], typedtf[\"arg_types\"]):\n",
    "    for sub, typ in zip(subs, types):\n",
    "        if typ not in args_per_type.keys():\n",
    "            args_per_type[typ] = [sub]\n",
    "        else:\n",
    "            args_per_type[typ].append(sub)"
   ]
  },
  {
   "cell_type": "markdown",
   "metadata": {},
   "source": [
    "### Nb args of each type"
   ]
  },
  {
   "cell_type": "code",
   "execution_count": 39,
   "metadata": {},
   "outputs": [
    {
     "name": "stdout",
     "output_type": "stream",
     "text": [
      "proposal\n",
      "110\n",
      "description\n",
      "7\n",
      "means\n",
      "63\n",
      "observation\n",
      "11\n",
      "assertion\n",
      "88\n",
      "result\n",
      "74\n"
     ]
    }
   ],
   "source": [
    "for k, subs in args_per_type.items():\n",
    "    print(k)\n",
    "    print(len(subs))"
   ]
  },
  {
   "cell_type": "markdown",
   "metadata": {},
   "source": [
    "### Distrib len per type"
   ]
  },
  {
   "cell_type": "code",
   "execution_count": 40,
   "metadata": {},
   "outputs": [],
   "source": [
    "types_lens = {k:[len(x.nodes) for x in v] for k,v in args_per_type.items()}\n",
    "arrays = types_lens.values()"
   ]
  },
  {
   "cell_type": "code",
   "execution_count": 41,
   "metadata": {},
   "outputs": [],
   "source": [
    "n_bins=6"
   ]
  },
  {
   "cell_type": "code",
   "execution_count": 42,
   "metadata": {},
   "outputs": [],
   "source": [
    "colors = ['blue', 'orange', 'green', \"yellow\", \"red\", \"pink\"]\n",
    "names = list(types_lens.keys())"
   ]
  },
  {
   "cell_type": "code",
   "execution_count": 43,
   "metadata": {},
   "outputs": [
    {
     "data": {
      "image/png": "[encoded data removed]",
      "text/plain": [
       "<Figure size 432x288 with 1 Axes>"
      ]
     },
     "metadata": {
      "needs_background": "light"
     },
     "output_type": "display_data"
    }
   ],
   "source": [
    "plt.hist(arrays, n_bins, histtype='bar', label=names)\n",
    "plt.legend(loc=\"upper right\")\n",
    "plt.title('Distrib arg length per type')\n",
    "plt.show()"
   ]
  },
  {
   "cell_type": "markdown",
   "metadata": {},
   "source": [
    "### Distrib rels per type"
   ]
  },
  {
   "cell_type": "code",
   "execution_count": 44,
   "metadata": {},
   "outputs": [],
   "source": [
    "type_rels_temp = {k:[list(x.edges(data=True)) for x in v] for k,v in args_per_type.items()}\n",
    "type_rels = {}\n",
    "for k, docv in type_rels_temp.items():\n",
    "    type_rels[k] = []\n",
    "    #print(v)\n",
    "    for v in docv:\n",
    "        for edge in v:\n",
    "            #print(edge)\n",
    "            type_rels[k].append(edge[2][\"label\"])"
   ]
  },
  {
   "cell_type": "code",
   "execution_count": 45,
   "metadata": {},
   "outputs": [],
   "source": [
    "type_rels_temp = {k:[list(x.edges(data=True)) for x in v] for k,v in args_per_type.items()}\n",
    "nb_rels_doc = {}\n",
    "for k, docv in type_rels_temp.items():\n",
    "    nb_rels_doc[k] = []\n",
    "    #print(v)\n",
    "    for v in docv:\n",
    "        #print(v)\n",
    "        nb_rels_doc[k].append(len(v))\n",
    "    nb_rels_doc[k] = np.mean(nb_rels_doc[k])\n"
   ]
  },
  {
   "cell_type": "code",
   "execution_count": 46,
   "metadata": {},
   "outputs": [
    {
     "data": {
      "text/plain": [
       "{'proposal': 1.6,\n",
       " 'description': 1.0,\n",
       " 'means': 1.1904761904761905,\n",
       " 'observation': 0.45454545454545453,\n",
       " 'assertion': 1.3295454545454546,\n",
       " 'result': 1.6891891891891893}"
      ]
     },
     "execution_count": 46,
     "metadata": {},
     "output_type": "execute_result"
    }
   ],
   "source": [
    "nb_rels_doc"
   ]
  },
  {
   "cell_type": "markdown",
   "metadata": {},
   "source": [
    "#### Nb rels\n",
    "/!\\ Certains types ont moins de rels que de EDUs, c'est lorsque des args sont composés d'une seule edu"
   ]
  },
  {
   "cell_type": "code",
   "execution_count": 47,
   "metadata": {},
   "outputs": [
    {
     "name": "stdout",
     "output_type": "stream",
     "text": [
      "proposal\n",
      "176\n",
      "description\n",
      "7\n",
      "means\n",
      "75\n",
      "observation\n",
      "5\n",
      "assertion\n",
      "117\n",
      "result\n",
      "125\n"
     ]
    }
   ],
   "source": [
    "for k, rels in type_rels.items():\n",
    "    print(k)\n",
    "    print(len(rels))"
   ]
  },
  {
   "cell_type": "code",
   "execution_count": 48,
   "metadata": {},
   "outputs": [],
   "source": [
    "### Distrib rels per type"
   ]
  },
  {
   "cell_type": "code",
   "execution_count": 49,
   "metadata": {},
   "outputs": [],
   "source": [
    "type_rels_cnt = {k:Counter(v) for k,v in type_rels.items()}"
   ]
  },
  {
   "cell_type": "code",
   "execution_count": 50,
   "metadata": {},
   "outputs": [
    {
     "data": {
      "text/plain": [
       "{'proposal': Counter({'enablement': 36,\n",
       "          'progression': 9,\n",
       "          'elab-enum_member': 6,\n",
       "          'elab-addition': 69,\n",
       "          'contrast': 9,\n",
       "          'manner-means': 16,\n",
       "          'temporal': 3,\n",
       "          'bg-general': 4,\n",
       "          'elab-example': 5,\n",
       "          'joint': 10,\n",
       "          'same-unit': 1,\n",
       "          'attribution': 4,\n",
       "          'cause': 1,\n",
       "          'condition': 1,\n",
       "          'result': 1,\n",
       "          'comparison': 1}),\n",
       " 'description': Counter({'elab-example': 1,\n",
       "          'elab-addition': 5,\n",
       "          'elab-enum_member': 1}),\n",
       " 'means': Counter({'manner-means': 6,\n",
       "          'enablement': 21,\n",
       "          'joint': 13,\n",
       "          'bg-general': 3,\n",
       "          'elab-addition': 24,\n",
       "          'elab-enum_member': 1,\n",
       "          'exp-reason': 1,\n",
       "          'attribution': 1,\n",
       "          'progression': 1,\n",
       "          'elab-example': 1,\n",
       "          'same-unit': 2,\n",
       "          'contrast': 1}),\n",
       " 'observation': Counter({'elab-addition': 2,\n",
       "          'manner-means': 1,\n",
       "          'comparison': 1,\n",
       "          'joint': 1}),\n",
       " 'assertion': Counter({'manner-means': 4,\n",
       "          'elab-addition': 35,\n",
       "          'same-unit': 6,\n",
       "          'condition': 5,\n",
       "          'enablement': 10,\n",
       "          'contrast': 8,\n",
       "          'elab-example': 3,\n",
       "          'joint': 20,\n",
       "          'temporal': 2,\n",
       "          'elab-aspect': 3,\n",
       "          'progression': 3,\n",
       "          'attribution': 7,\n",
       "          'bg-general': 2,\n",
       "          'exp-reason': 5,\n",
       "          'result': 2,\n",
       "          'comparison': 2}),\n",
       " 'result': Counter({'attribution': 40,\n",
       "          'joint': 11,\n",
       "          'elab-aspect': 1,\n",
       "          'temporal': 4,\n",
       "          'elab-addition': 28,\n",
       "          'same-unit': 8,\n",
       "          'exp-reason': 1,\n",
       "          'enablement': 7,\n",
       "          'manner-means': 8,\n",
       "          'elab-enum_member': 2,\n",
       "          'progression': 3,\n",
       "          'bg-general': 5,\n",
       "          'condition': 2,\n",
       "          'comparison': 3,\n",
       "          'contrast': 1,\n",
       "          'elab-example': 1})}"
      ]
     },
     "execution_count": 50,
     "metadata": {},
     "output_type": "execute_result"
    }
   ],
   "source": [
    "type_rels_cnt"
   ]
  },
  {
   "cell_type": "markdown",
   "metadata": {},
   "source": [
    "### Distrib rels seqs per type"
   ]
  },
  {
   "cell_type": "code",
   "execution_count": 51,
   "metadata": {},
   "outputs": [
    {
     "name": "stdout",
     "output_type": "stream",
     "text": [
      "proposal\n"
     ]
    },
    {
     "data": {
      "image/png": "[encoded data removed]",
      "text/plain": [
       "<IPython.core.display.Image object>"
      ]
     },
     "metadata": {},
     "output_type": "display_data"
    },
    {
     "name": "stdout",
     "output_type": "stream",
     "text": [
      "description\n"
     ]
    },
    {
     "data": {
      "image/png": "[encoded data removed]",
      "text/plain": [
       "<IPython.core.display.Image object>"
      ]
     },
     "metadata": {},
     "output_type": "display_data"
    },
    {
     "name": "stdout",
     "output_type": "stream",
     "text": [
      "means\n"
     ]
    },
    {
     "data": {
      "image/png": "[encoded data removed]",
      "text/plain": [
       "<IPython.core.display.Image object>"
      ]
     },
     "metadata": {},
     "output_type": "display_data"
    },
    {
     "name": "stdout",
     "output_type": "stream",
     "text": [
      "observation\n"
     ]
    },
    {
     "data": {
      "image/png": "[encoded data removed]",
      "text/plain": [
       "<IPython.core.display.Image object>"
      ]
     },
     "metadata": {},
     "output_type": "display_data"
    },
    {
     "name": "stdout",
     "output_type": "stream",
     "text": [
      "assertion\n"
     ]
    },
    {
     "data": {
      "image/png": "[encoded data removed]",
      "text/plain": [
       "<IPython.core.display.Image object>"
      ]
     },
     "metadata": {},
     "output_type": "display_data"
    },
    {
     "name": "stdout",
     "output_type": "stream",
     "text": [
      "result\n"
     ]
    },
    {
     "data": {
      "image/png": "[encoded data removed]",
      "text/plain": [
       "<IPython.core.display.Image object>"
      ]
     },
     "metadata": {},
     "output_type": "display_data"
    }
   ],
   "source": [
    "for k, v in args_per_type.items():\n",
    "    print(k)\n",
    "    draw_graph(v[0])"
   ]
  },
  {
   "cell_type": "code",
   "execution_count": 52,
   "metadata": {},
   "outputs": [],
   "source": [
    "args_per_type_gspan_out = {k:gspan(v, 1, 2, method=3) for k,v in args_per_type.items()}"
   ]
  },
  {
   "cell_type": "code",
   "execution_count": 53,
   "metadata": {},
   "outputs": [],
   "source": [
    "all_args = list(args_per_type.values())\n",
    "all_args = [item for sublist in all_args for item in sublist]"
   ]
  },
  {
   "cell_type": "code",
   "execution_count": 54,
   "metadata": {},
   "outputs": [],
   "source": [
    "all_args_gspan_out = gspan(all_args, 1, 2, method=2)"
   ]
  },
  {
   "cell_type": "code",
   "execution_count": 55,
   "metadata": {},
   "outputs": [],
   "source": [
    "def objs(outgspan):\n",
    "    objs = list(outgspan[\"isomorph_graphs\"])\n",
    "    objs = [item for sublist in objs for item in sublist]\n",
    "    return objs"
   ]
  },
  {
   "cell_type": "code",
   "execution_count": 56,
   "metadata": {},
   "outputs": [],
   "source": [
    "def nb_graphs_having_rel(relname, graphs):\n",
    "    cnt=0\n",
    "    for g in graphs:\n",
    "        labels = [x[2][\"label\"] for x in g.edges(data=True)]\n",
    "        if relname in labels:\n",
    "            cnt+=1\n",
    "    return cnt"
   ]
  },
  {
   "cell_type": "markdown",
   "metadata": {},
   "source": [
    "### Subgraph analysis : focus on proposal/means/assertion/result"
   ]
  },
  {
   "cell_type": "markdown",
   "metadata": {},
   "source": [
    "### Can we distinguish proposal from assertion ? "
   ]
  },
  {
   "cell_type": "code",
   "execution_count": 57,
   "metadata": {},
   "outputs": [
    {
     "data": {
      "text/plain": [
       "263"
      ]
     },
     "execution_count": 57,
     "metadata": {},
     "output_type": "execute_result"
    }
   ],
   "source": [
    "len(set(objs(all_args_gspan_out[1])))"
   ]
  },
  {
   "cell_type": "code",
   "execution_count": 58,
   "metadata": {},
   "outputs": [],
   "source": [
    "all_out = all_args_gspan_out\n",
    "assert_out = args_per_type_gspan_out[\"assertion\"][1]\n",
    "prop_out = args_per_type_gspan_out[\"proposal\"][1]\n",
    "means_out = args_per_type_gspan_out[\"means\"][1]\n",
    "result_out = args_per_type_gspan_out[\"result\"][1]\n",
    "obs_out = args_per_type_gspan_out[\"observation\"][1]\n",
    "descr_out = args_per_type_gspan_out[\"description\"][1]"
   ]
  },
  {
   "cell_type": "code",
   "execution_count": 59,
   "metadata": {},
   "outputs": [
    {
     "data": {
      "text/html": [
       "<div>\n",
       "<style scoped>\n",
       "    .dataframe tbody tr th:only-of-type {\n",
       "        vertical-align: middle;\n",
       "    }\n",
       "\n",
       "    .dataframe tbody tr th {\n",
       "        vertical-align: top;\n",
       "    }\n",
       "\n",
       "    .dataframe thead th {\n",
       "        text-align: right;\n",
       "    }\n",
       "</style>\n",
       "<table border=\"1\" class=\"dataframe\">\n",
       "  <thead>\n",
       "    <tr style=\"text-align: right;\">\n",
       "      <th></th>\n",
       "      <th>support</th>\n",
       "      <th>graph</th>\n",
       "      <th>graphstr</th>\n",
       "      <th>num_vert</th>\n",
       "      <th>isomorph_graphs</th>\n",
       "    </tr>\n",
       "  </thead>\n",
       "  <tbody>\n",
       "    <tr>\n",
       "      <th>1</th>\n",
       "      <td>1</td>\n",
       "      <td>&lt;gspan_mining.graph.Graph object at 0x1331fc310&gt;</td>\n",
       "      <td>v 0 X v 1 X e 0 1 elab-example</td>\n",
       "      <td>2</td>\n",
       "      <td>[0]</td>\n",
       "    </tr>\n",
       "    <tr>\n",
       "      <th>2</th>\n",
       "      <td>4</td>\n",
       "      <td>&lt;gspan_mining.graph.Graph object at 0x1331e4a90&gt;</td>\n",
       "      <td>v 0 X v 1 X e 0 1 elab-addition</td>\n",
       "      <td>2</td>\n",
       "      <td>[0, 1, 2, 6]</td>\n",
       "    </tr>\n",
       "    <tr>\n",
       "      <th>3</th>\n",
       "      <td>1</td>\n",
       "      <td>&lt;gspan_mining.graph.Graph object at 0x132fe8d50&gt;</td>\n",
       "      <td>v 0 X v 1 X v 2 X e 0 1 elab-addition e 1 2 el...</td>\n",
       "      <td>3</td>\n",
       "      <td>[0]</td>\n",
       "    </tr>\n",
       "    <tr>\n",
       "      <th>4</th>\n",
       "      <td>1</td>\n",
       "      <td>&lt;gspan_mining.graph.Graph object at 0x133054ed0&gt;</td>\n",
       "      <td>v 0 X v 1 X v 2 X e 0 1 elab-addition e 1 2 el...</td>\n",
       "      <td>3</td>\n",
       "      <td>[2]</td>\n",
       "    </tr>\n",
       "    <tr>\n",
       "      <th>5</th>\n",
       "      <td>1</td>\n",
       "      <td>&lt;gspan_mining.graph.Graph object at 0x13303a290&gt;</td>\n",
       "      <td>v 0 X v 1 X v 2 X e 0 1 elab-addition e 1 2 el...</td>\n",
       "      <td>3</td>\n",
       "      <td>[6]</td>\n",
       "    </tr>\n",
       "    <tr>\n",
       "      <th>6</th>\n",
       "      <td>1</td>\n",
       "      <td>&lt;gspan_mining.graph.Graph object at 0x1331e4810&gt;</td>\n",
       "      <td>v 0 X v 1 X e 0 1 elab-enum_member</td>\n",
       "      <td>2</td>\n",
       "      <td>[2]</td>\n",
       "    </tr>\n",
       "  </tbody>\n",
       "</table>\n",
       "</div>"
      ],
      "text/plain": [
       "   support                                             graph  \\\n",
       "1        1  <gspan_mining.graph.Graph object at 0x1331fc310>   \n",
       "2        4  <gspan_mining.graph.Graph object at 0x1331e4a90>   \n",
       "3        1  <gspan_mining.graph.Graph object at 0x132fe8d50>   \n",
       "4        1  <gspan_mining.graph.Graph object at 0x133054ed0>   \n",
       "5        1  <gspan_mining.graph.Graph object at 0x13303a290>   \n",
       "6        1  <gspan_mining.graph.Graph object at 0x1331e4810>   \n",
       "\n",
       "                                            graphstr  num_vert isomorph_graphs  \n",
       "1                    v 0 X v 1 X e 0 1 elab-example          2             [0]  \n",
       "2                   v 0 X v 1 X e 0 1 elab-addition          2    [0, 1, 2, 6]  \n",
       "3  v 0 X v 1 X v 2 X e 0 1 elab-addition e 1 2 el...         3             [0]  \n",
       "4  v 0 X v 1 X v 2 X e 0 1 elab-addition e 1 2 el...         3             [2]  \n",
       "5  v 0 X v 1 X v 2 X e 0 1 elab-addition e 1 2 el...         3             [6]  \n",
       "6                v 0 X v 1 X e 0 1 elab-enum_member          2             [2]  "
      ]
     },
     "execution_count": 59,
     "metadata": {},
     "output_type": "execute_result"
    }
   ],
   "source": [
    "descr_out"
   ]
  },
  {
   "cell_type": "code",
   "execution_count": 60,
   "metadata": {},
   "outputs": [
    {
     "data": {
      "text/html": [
       "<div>\n",
       "<style scoped>\n",
       "    .dataframe tbody tr th:only-of-type {\n",
       "        vertical-align: middle;\n",
       "    }\n",
       "\n",
       "    .dataframe tbody tr th {\n",
       "        vertical-align: top;\n",
       "    }\n",
       "\n",
       "    .dataframe thead th {\n",
       "        text-align: right;\n",
       "    }\n",
       "</style>\n",
       "<table border=\"1\" class=\"dataframe\">\n",
       "  <thead>\n",
       "    <tr style=\"text-align: right;\">\n",
       "      <th></th>\n",
       "      <th>support</th>\n",
       "      <th>graph</th>\n",
       "      <th>graphstr</th>\n",
       "      <th>num_vert</th>\n",
       "      <th>isomorph_graphs</th>\n",
       "    </tr>\n",
       "  </thead>\n",
       "  <tbody>\n",
       "    <tr>\n",
       "      <th>1</th>\n",
       "      <td>2</td>\n",
       "      <td>&lt;gspan_mining.graph.Graph object at 0x133032810&gt;</td>\n",
       "      <td>v 0 X v 1 X e 0 1 elab-addition</td>\n",
       "      <td>2</td>\n",
       "      <td>[0, 6]</td>\n",
       "    </tr>\n",
       "    <tr>\n",
       "      <th>2</th>\n",
       "      <td>1</td>\n",
       "      <td>&lt;gspan_mining.graph.Graph object at 0x13306e050&gt;</td>\n",
       "      <td>v 0 X v 1 X e 0 1 manner-means</td>\n",
       "      <td>2</td>\n",
       "      <td>[3]</td>\n",
       "    </tr>\n",
       "    <tr>\n",
       "      <th>3</th>\n",
       "      <td>1</td>\n",
       "      <td>&lt;gspan_mining.graph.Graph object at 0x133032210&gt;</td>\n",
       "      <td>v 0 X v 1 X e 0 1 comparison</td>\n",
       "      <td>2</td>\n",
       "      <td>[6]</td>\n",
       "    </tr>\n",
       "    <tr>\n",
       "      <th>4</th>\n",
       "      <td>1</td>\n",
       "      <td>&lt;gspan_mining.graph.Graph object at 0x133032990&gt;</td>\n",
       "      <td>v 0 X v 1 X v 2 X e 0 1 comparison e 1 2 elab-...</td>\n",
       "      <td>3</td>\n",
       "      <td>[6]</td>\n",
       "    </tr>\n",
       "    <tr>\n",
       "      <th>5</th>\n",
       "      <td>1</td>\n",
       "      <td>&lt;gspan_mining.graph.Graph object at 0x13304be50&gt;</td>\n",
       "      <td>v 0 X v 1 X e 0 1 joint</td>\n",
       "      <td>2</td>\n",
       "      <td>[8]</td>\n",
       "    </tr>\n",
       "  </tbody>\n",
       "</table>\n",
       "</div>"
      ],
      "text/plain": [
       "   support                                             graph  \\\n",
       "1        2  <gspan_mining.graph.Graph object at 0x133032810>   \n",
       "2        1  <gspan_mining.graph.Graph object at 0x13306e050>   \n",
       "3        1  <gspan_mining.graph.Graph object at 0x133032210>   \n",
       "4        1  <gspan_mining.graph.Graph object at 0x133032990>   \n",
       "5        1  <gspan_mining.graph.Graph object at 0x13304be50>   \n",
       "\n",
       "                                            graphstr  num_vert isomorph_graphs  \n",
       "1                   v 0 X v 1 X e 0 1 elab-addition          2          [0, 6]  \n",
       "2                    v 0 X v 1 X e 0 1 manner-means          2             [3]  \n",
       "3                      v 0 X v 1 X e 0 1 comparison          2             [6]  \n",
       "4  v 0 X v 1 X v 2 X e 0 1 comparison e 1 2 elab-...         3             [6]  \n",
       "5                           v 0 X v 1 X e 0 1 joint          2             [8]  "
      ]
     },
     "execution_count": 60,
     "metadata": {},
     "output_type": "execute_result"
    }
   ],
   "source": [
    "obs_out"
   ]
  },
  {
   "cell_type": "code",
   "execution_count": 61,
   "metadata": {},
   "outputs": [
    {
     "data": {
      "text/html": [
       "<div>\n",
       "<style scoped>\n",
       "    .dataframe tbody tr th:only-of-type {\n",
       "        vertical-align: middle;\n",
       "    }\n",
       "\n",
       "    .dataframe tbody tr th {\n",
       "        vertical-align: top;\n",
       "    }\n",
       "\n",
       "    .dataframe thead th {\n",
       "        text-align: right;\n",
       "    }\n",
       "</style>\n",
       "<table border=\"1\" class=\"dataframe\">\n",
       "  <thead>\n",
       "    <tr style=\"text-align: right;\">\n",
       "      <th></th>\n",
       "      <th>support</th>\n",
       "      <th>graph</th>\n",
       "      <th>graphstr</th>\n",
       "      <th>num_vert</th>\n",
       "      <th>isomorph_graphs</th>\n",
       "    </tr>\n",
       "  </thead>\n",
       "  <tbody>\n",
       "    <tr>\n",
       "      <th>1</th>\n",
       "      <td>40</td>\n",
       "      <td>&lt;gspan_mining.graph.Graph object at 0x13333ef50&gt;</td>\n",
       "      <td>v 0 X v 1 X e 0 1 attribution</td>\n",
       "      <td>2</td>\n",
       "      <td>[0, 1, 2, 3, 4, 6, 7, 9, 16, 18, 19, 20, 22, 2...</td>\n",
       "    </tr>\n",
       "    <tr>\n",
       "      <th>64</th>\n",
       "      <td>24</td>\n",
       "      <td>&lt;gspan_mining.graph.Graph object at 0x1333417d0&gt;</td>\n",
       "      <td>v 0 X v 1 X e 0 1 elab-addition</td>\n",
       "      <td>2</td>\n",
       "      <td>[3, 5, 6, 7, 10, 12, 15, 22, 27, 29, 30, 31, 3...</td>\n",
       "    </tr>\n",
       "    <tr>\n",
       "      <th>6</th>\n",
       "      <td>12</td>\n",
       "      <td>&lt;gspan_mining.graph.Graph object at 0x133354110&gt;</td>\n",
       "      <td>v 0 X v 1 X v 2 X e 0 1 attribution e 1 2 elab...</td>\n",
       "      <td>3</td>\n",
       "      <td>[32, 3, 67, 37, 6, 73, 63, 53, 27, 29, 30, 31]</td>\n",
       "    </tr>\n",
       "    <tr>\n",
       "      <th>56</th>\n",
       "      <td>10</td>\n",
       "      <td>&lt;gspan_mining.graph.Graph object at 0x133345190&gt;</td>\n",
       "      <td>v 0 X v 1 X e 0 1 joint</td>\n",
       "      <td>2</td>\n",
       "      <td>[65, 2, 58, 5, 6, 7, 42, 13, 22, 26]</td>\n",
       "    </tr>\n",
       "    <tr>\n",
       "      <th>111</th>\n",
       "      <td>8</td>\n",
       "      <td>&lt;gspan_mining.graph.Graph object at 0x1333f83d0&gt;</td>\n",
       "      <td>v 0 X v 1 X e 0 1 manner-means</td>\n",
       "      <td>2</td>\n",
       "      <td>[32, 66, 37, 7, 8, 44, 45, 61]</td>\n",
       "    </tr>\n",
       "    <tr>\n",
       "      <th>...</th>\n",
       "      <td>...</td>\n",
       "      <td>...</td>\n",
       "      <td>...</td>\n",
       "      <td>...</td>\n",
       "      <td>...</td>\n",
       "    </tr>\n",
       "    <tr>\n",
       "      <th>53</th>\n",
       "      <td>1</td>\n",
       "      <td>&lt;gspan_mining.graph.Graph object at 0x1333ab750&gt;</td>\n",
       "      <td>v 0 X v 1 X v 2 X v 3 X v 4 X e 0 1 attributio...</td>\n",
       "      <td>5</td>\n",
       "      <td>[63]</td>\n",
       "    </tr>\n",
       "    <tr>\n",
       "      <th>52</th>\n",
       "      <td>1</td>\n",
       "      <td>&lt;gspan_mining.graph.Graph object at 0x1333ba710&gt;</td>\n",
       "      <td>v 0 X v 1 X v 2 X v 3 X e 0 1 attribution e 1 ...</td>\n",
       "      <td>4</td>\n",
       "      <td>[63]</td>\n",
       "    </tr>\n",
       "    <tr>\n",
       "      <th>51</th>\n",
       "      <td>1</td>\n",
       "      <td>&lt;gspan_mining.graph.Graph object at 0x1333abf90&gt;</td>\n",
       "      <td>v 0 X v 1 X v 2 X e 0 1 attribution e 1 2 cont...</td>\n",
       "      <td>3</td>\n",
       "      <td>[63]</td>\n",
       "    </tr>\n",
       "    <tr>\n",
       "      <th>50</th>\n",
       "      <td>1</td>\n",
       "      <td>&lt;gspan_mining.graph.Graph object at 0x1333ab990&gt;</td>\n",
       "      <td>v 0 X v 1 X v 2 X e 0 1 attribution e 1 2 comp...</td>\n",
       "      <td>3</td>\n",
       "      <td>[52]</td>\n",
       "    </tr>\n",
       "    <tr>\n",
       "      <th>131</th>\n",
       "      <td>1</td>\n",
       "      <td>&lt;gspan_mining.graph.Graph object at 0x1333f8250&gt;</td>\n",
       "      <td>v 0 X v 1 X e 0 1 elab-example</td>\n",
       "      <td>2</td>\n",
       "      <td>[71]</td>\n",
       "    </tr>\n",
       "  </tbody>\n",
       "</table>\n",
       "<p>131 rows × 5 columns</p>\n",
       "</div>"
      ],
      "text/plain": [
       "     support                                             graph  \\\n",
       "1         40  <gspan_mining.graph.Graph object at 0x13333ef50>   \n",
       "64        24  <gspan_mining.graph.Graph object at 0x1333417d0>   \n",
       "6         12  <gspan_mining.graph.Graph object at 0x133354110>   \n",
       "56        10  <gspan_mining.graph.Graph object at 0x133345190>   \n",
       "111        8  <gspan_mining.graph.Graph object at 0x1333f83d0>   \n",
       "..       ...                                               ...   \n",
       "53         1  <gspan_mining.graph.Graph object at 0x1333ab750>   \n",
       "52         1  <gspan_mining.graph.Graph object at 0x1333ba710>   \n",
       "51         1  <gspan_mining.graph.Graph object at 0x1333abf90>   \n",
       "50         1  <gspan_mining.graph.Graph object at 0x1333ab990>   \n",
       "131        1  <gspan_mining.graph.Graph object at 0x1333f8250>   \n",
       "\n",
       "                                              graphstr  num_vert  \\\n",
       "1                       v 0 X v 1 X e 0 1 attribution          2   \n",
       "64                    v 0 X v 1 X e 0 1 elab-addition          2   \n",
       "6    v 0 X v 1 X v 2 X e 0 1 attribution e 1 2 elab...         3   \n",
       "56                            v 0 X v 1 X e 0 1 joint          2   \n",
       "111                    v 0 X v 1 X e 0 1 manner-means          2   \n",
       "..                                                 ...       ...   \n",
       "53   v 0 X v 1 X v 2 X v 3 X v 4 X e 0 1 attributio...         5   \n",
       "52   v 0 X v 1 X v 2 X v 3 X e 0 1 attribution e 1 ...         4   \n",
       "51   v 0 X v 1 X v 2 X e 0 1 attribution e 1 2 cont...         3   \n",
       "50   v 0 X v 1 X v 2 X e 0 1 attribution e 1 2 comp...         3   \n",
       "131                    v 0 X v 1 X e 0 1 elab-example          2   \n",
       "\n",
       "                                       isomorph_graphs  \n",
       "1    [0, 1, 2, 3, 4, 6, 7, 9, 16, 18, 19, 20, 22, 2...  \n",
       "64   [3, 5, 6, 7, 10, 12, 15, 22, 27, 29, 30, 31, 3...  \n",
       "6       [32, 3, 67, 37, 6, 73, 63, 53, 27, 29, 30, 31]  \n",
       "56                [65, 2, 58, 5, 6, 7, 42, 13, 22, 26]  \n",
       "111                     [32, 66, 37, 7, 8, 44, 45, 61]  \n",
       "..                                                 ...  \n",
       "53                                                [63]  \n",
       "52                                                [63]  \n",
       "51                                                [63]  \n",
       "50                                                [52]  \n",
       "131                                               [71]  \n",
       "\n",
       "[131 rows x 5 columns]"
      ]
     },
     "execution_count": 61,
     "metadata": {},
     "output_type": "execute_result"
    }
   ],
   "source": [
    "result_out.sort_values(by=\"support\", ascending=False)"
   ]
  },
  {
   "cell_type": "code",
   "execution_count": 62,
   "metadata": {},
   "outputs": [
    {
     "data": {
      "text/html": [
       "<div>\n",
       "<style scoped>\n",
       "    .dataframe tbody tr th:only-of-type {\n",
       "        vertical-align: middle;\n",
       "    }\n",
       "\n",
       "    .dataframe tbody tr th {\n",
       "        vertical-align: top;\n",
       "    }\n",
       "\n",
       "    .dataframe thead th {\n",
       "        text-align: right;\n",
       "    }\n",
       "</style>\n",
       "<table border=\"1\" class=\"dataframe\">\n",
       "  <thead>\n",
       "    <tr style=\"text-align: right;\">\n",
       "      <th></th>\n",
       "      <th>support</th>\n",
       "      <th>graph</th>\n",
       "      <th>graphstr</th>\n",
       "      <th>num_vert</th>\n",
       "      <th>isomorph_graphs</th>\n",
       "    </tr>\n",
       "  </thead>\n",
       "  <tbody>\n",
       "    <tr>\n",
       "      <th>3</th>\n",
       "      <td>18</td>\n",
       "      <td>&lt;gspan_mining.graph.Graph object at 0x1331fc150&gt;</td>\n",
       "      <td>v 0 X v 1 X e 0 1 enablement</td>\n",
       "      <td>2</td>\n",
       "      <td>[1, 3, 4, 35, 36, 37, 8, 41, 10, 11, 42, 13, 1...</td>\n",
       "    </tr>\n",
       "    <tr>\n",
       "      <th>19</th>\n",
       "      <td>17</td>\n",
       "      <td>&lt;gspan_mining.graph.Graph object at 0x132ab6a50&gt;</td>\n",
       "      <td>v 0 X v 1 X e 0 1 elab-addition</td>\n",
       "      <td>2</td>\n",
       "      <td>[35, 38, 39, 8, 9, 41, 11, 12, 13, 14, 49, 18,...</td>\n",
       "    </tr>\n",
       "    <tr>\n",
       "      <th>12</th>\n",
       "      <td>11</td>\n",
       "      <td>&lt;gspan_mining.graph.Graph object at 0x132f74990&gt;</td>\n",
       "      <td>v 0 X v 1 X e 0 1 joint</td>\n",
       "      <td>2</td>\n",
       "      <td>[3, 38, 7, 8, 40, 41, 48, 19, 53, 23, 62]</td>\n",
       "    </tr>\n",
       "    <tr>\n",
       "      <th>23</th>\n",
       "      <td>7</td>\n",
       "      <td>&lt;gspan_mining.graph.Graph object at 0x132f92c50&gt;</td>\n",
       "      <td>v 0 X v 1 X v 2 X e 0 1 elab-addition e 1 2 en...</td>\n",
       "      <td>3</td>\n",
       "      <td>[35, 41, 11, 13, 14, 24, 58]</td>\n",
       "    </tr>\n",
       "    <tr>\n",
       "      <th>1</th>\n",
       "      <td>6</td>\n",
       "      <td>&lt;gspan_mining.graph.Graph object at 0x13306e410&gt;</td>\n",
       "      <td>v 0 X v 1 X e 0 1 manner-means</td>\n",
       "      <td>2</td>\n",
       "      <td>[0, 3, 5, 22, 23, 25]</td>\n",
       "    </tr>\n",
       "    <tr>\n",
       "      <th>4</th>\n",
       "      <td>5</td>\n",
       "      <td>&lt;gspan_mining.graph.Graph object at 0x132f85d10&gt;</td>\n",
       "      <td>v 0 X v 1 X v 2 X e 0 1 enablement e 1 2 joint</td>\n",
       "      <td>3</td>\n",
       "      <td>[3, 8, 41, 48, 53]</td>\n",
       "    </tr>\n",
       "    <tr>\n",
       "      <th>20</th>\n",
       "      <td>4</td>\n",
       "      <td>&lt;gspan_mining.graph.Graph object at 0x132f7a390&gt;</td>\n",
       "      <td>v 0 X v 1 X v 2 X e 0 1 elab-addition e 1 2 jo...</td>\n",
       "      <td>3</td>\n",
       "      <td>[8, 41, 38, 62]</td>\n",
       "    </tr>\n",
       "    <tr>\n",
       "      <th>28</th>\n",
       "      <td>3</td>\n",
       "      <td>&lt;gspan_mining.graph.Graph object at 0x133004f50&gt;</td>\n",
       "      <td>v 0 X v 1 X v 2 X e 0 1 elab-addition e 1 2 el...</td>\n",
       "      <td>3</td>\n",
       "      <td>[35, 28, 39]</td>\n",
       "    </tr>\n",
       "    <tr>\n",
       "      <th>16</th>\n",
       "      <td>3</td>\n",
       "      <td>&lt;gspan_mining.graph.Graph object at 0x132f92b10&gt;</td>\n",
       "      <td>v 0 X v 1 X e 0 1 bg-general</td>\n",
       "      <td>2</td>\n",
       "      <td>[34, 4, 50]</td>\n",
       "    </tr>\n",
       "    <tr>\n",
       "      <th>8</th>\n",
       "      <td>2</td>\n",
       "      <td>&lt;gspan_mining.graph.Graph object at 0x132f7af50&gt;</td>\n",
       "      <td>v 0 X v 1 X v 2 X v 3 X e 0 1 enablement e 1 2...</td>\n",
       "      <td>4</td>\n",
       "      <td>[48, 53]</td>\n",
       "    </tr>\n",
       "    <tr>\n",
       "      <th>47</th>\n",
       "      <td>2</td>\n",
       "      <td>&lt;gspan_mining.graph.Graph object at 0x13305abd0&gt;</td>\n",
       "      <td>v 0 X v 1 X e 0 1 same-unit</td>\n",
       "      <td>2</td>\n",
       "      <td>[35, 31]</td>\n",
       "    </tr>\n",
       "    <tr>\n",
       "      <th>13</th>\n",
       "      <td>2</td>\n",
       "      <td>&lt;gspan_mining.graph.Graph object at 0x132f7a450&gt;</td>\n",
       "      <td>v 0 X v 1 X v 2 X e 0 1 joint e 1 2 manner-means</td>\n",
       "      <td>3</td>\n",
       "      <td>[3, 23]</td>\n",
       "    </tr>\n",
       "    <tr>\n",
       "      <th>22</th>\n",
       "      <td>2</td>\n",
       "      <td>&lt;gspan_mining.graph.Graph object at 0x132f74a10&gt;</td>\n",
       "      <td>v 0 X v 1 X v 2 X v 3 X e 0 1 elab-addition e ...</td>\n",
       "      <td>4</td>\n",
       "      <td>[62, 38]</td>\n",
       "    </tr>\n",
       "    <tr>\n",
       "      <th>39</th>\n",
       "      <td>2</td>\n",
       "      <td>&lt;gspan_mining.graph.Graph object at 0x132f33f50&gt;</td>\n",
       "      <td>v 0 X v 1 X v 2 X e 0 1 elab-addition e 1 2 sa...</td>\n",
       "      <td>3</td>\n",
       "      <td>[35, 31]</td>\n",
       "    </tr>\n",
       "    <tr>\n",
       "      <th>33</th>\n",
       "      <td>1</td>\n",
       "      <td>&lt;gspan_mining.graph.Graph object at 0x132dc25d0&gt;</td>\n",
       "      <td>v 0 X v 1 X v 2 X v 3 X e 0 1 elab-addition e ...</td>\n",
       "      <td>4</td>\n",
       "      <td>[35]</td>\n",
       "    </tr>\n",
       "    <tr>\n",
       "      <th>34</th>\n",
       "      <td>1</td>\n",
       "      <td>&lt;gspan_mining.graph.Graph object at 0x13305aed0&gt;</td>\n",
       "      <td>v 0 X v 1 X v 2 X v 3 X v 4 X e 0 1 elab-addit...</td>\n",
       "      <td>5</td>\n",
       "      <td>[35]</td>\n",
       "    </tr>\n",
       "    <tr>\n",
       "      <th>36</th>\n",
       "      <td>1</td>\n",
       "      <td>&lt;gspan_mining.graph.Graph object at 0x133004550&gt;</td>\n",
       "      <td>v 0 X v 1 X v 2 X v 3 X v 4 X v 5 X v 6 X e 0 ...</td>\n",
       "      <td>7</td>\n",
       "      <td>[35]</td>\n",
       "    </tr>\n",
       "    <tr>\n",
       "      <th>37</th>\n",
       "      <td>1</td>\n",
       "      <td>&lt;gspan_mining.graph.Graph object at 0x1332708d0&gt;</td>\n",
       "      <td>v 0 X v 1 X v 2 X v 3 X v 4 X v 5 X e 0 1 elab...</td>\n",
       "      <td>6</td>\n",
       "      <td>[35]</td>\n",
       "    </tr>\n",
       "    <tr>\n",
       "      <th>35</th>\n",
       "      <td>1</td>\n",
       "      <td>&lt;gspan_mining.graph.Graph object at 0x132f743d0&gt;</td>\n",
       "      <td>v 0 X v 1 X v 2 X v 3 X v 4 X v 5 X e 0 1 elab...</td>\n",
       "      <td>6</td>\n",
       "      <td>[35]</td>\n",
       "    </tr>\n",
       "    <tr>\n",
       "      <th>40</th>\n",
       "      <td>1</td>\n",
       "      <td>&lt;gspan_mining.graph.Graph object at 0x1330449d0&gt;</td>\n",
       "      <td>v 0 X v 1 X e 0 1 elab-enum_member</td>\n",
       "      <td>2</td>\n",
       "      <td>[15]</td>\n",
       "    </tr>\n",
       "    <tr>\n",
       "      <th>38</th>\n",
       "      <td>1</td>\n",
       "      <td>&lt;gspan_mining.graph.Graph object at 0x133270710&gt;</td>\n",
       "      <td>v 0 X v 1 X v 2 X v 3 X v 4 X e 0 1 elab-addit...</td>\n",
       "      <td>5</td>\n",
       "      <td>[35]</td>\n",
       "    </tr>\n",
       "    <tr>\n",
       "      <th>31</th>\n",
       "      <td>1</td>\n",
       "      <td>&lt;gspan_mining.graph.Graph object at 0x132ff6b90&gt;</td>\n",
       "      <td>v 0 X v 1 X v 2 X v 3 X v 4 X v 5 X e 0 1 elab...</td>\n",
       "      <td>6</td>\n",
       "      <td>[35]</td>\n",
       "    </tr>\n",
       "    <tr>\n",
       "      <th>41</th>\n",
       "      <td>1</td>\n",
       "      <td>&lt;gspan_mining.graph.Graph object at 0x133044990&gt;</td>\n",
       "      <td>v 0 X v 1 X e 0 1 exp-reason</td>\n",
       "      <td>2</td>\n",
       "      <td>[20]</td>\n",
       "    </tr>\n",
       "    <tr>\n",
       "      <th>42</th>\n",
       "      <td>1</td>\n",
       "      <td>&lt;gspan_mining.graph.Graph object at 0x132f4c9d0&gt;</td>\n",
       "      <td>v 0 X v 1 X e 0 1 attribution</td>\n",
       "      <td>2</td>\n",
       "      <td>[23]</td>\n",
       "    </tr>\n",
       "    <tr>\n",
       "      <th>43</th>\n",
       "      <td>1</td>\n",
       "      <td>&lt;gspan_mining.graph.Graph object at 0x132f85e10&gt;</td>\n",
       "      <td>v 0 X v 1 X v 2 X e 0 1 attribution e 1 2 joint</td>\n",
       "      <td>3</td>\n",
       "      <td>[23]</td>\n",
       "    </tr>\n",
       "    <tr>\n",
       "      <th>44</th>\n",
       "      <td>1</td>\n",
       "      <td>&lt;gspan_mining.graph.Graph object at 0x132fdad90&gt;</td>\n",
       "      <td>v 0 X v 1 X v 2 X v 3 X e 0 1 attribution e 1 ...</td>\n",
       "      <td>4</td>\n",
       "      <td>[23]</td>\n",
       "    </tr>\n",
       "    <tr>\n",
       "      <th>45</th>\n",
       "      <td>1</td>\n",
       "      <td>&lt;gspan_mining.graph.Graph object at 0x132f7a1d0&gt;</td>\n",
       "      <td>v 0 X v 1 X e 0 1 progression</td>\n",
       "      <td>2</td>\n",
       "      <td>[25]</td>\n",
       "    </tr>\n",
       "    <tr>\n",
       "      <th>46</th>\n",
       "      <td>1</td>\n",
       "      <td>&lt;gspan_mining.graph.Graph object at 0x13305ad10&gt;</td>\n",
       "      <td>v 0 X v 1 X e 0 1 elab-example</td>\n",
       "      <td>2</td>\n",
       "      <td>[26]</td>\n",
       "    </tr>\n",
       "    <tr>\n",
       "      <th>32</th>\n",
       "      <td>1</td>\n",
       "      <td>&lt;gspan_mining.graph.Graph object at 0x132ff6450&gt;</td>\n",
       "      <td>v 0 X v 1 X v 2 X v 3 X e 0 1 elab-addition e ...</td>\n",
       "      <td>4</td>\n",
       "      <td>[35]</td>\n",
       "    </tr>\n",
       "    <tr>\n",
       "      <th>25</th>\n",
       "      <td>1</td>\n",
       "      <td>&lt;gspan_mining.graph.Graph object at 0x132f7a210&gt;</td>\n",
       "      <td>v 0 X v 1 X v 2 X v 3 X v 4 X e 0 1 elab-addit...</td>\n",
       "      <td>5</td>\n",
       "      <td>[35]</td>\n",
       "    </tr>\n",
       "    <tr>\n",
       "      <th>30</th>\n",
       "      <td>1</td>\n",
       "      <td>&lt;gspan_mining.graph.Graph object at 0x132f74090&gt;</td>\n",
       "      <td>v 0 X v 1 X v 2 X v 3 X v 4 X e 0 1 elab-addit...</td>\n",
       "      <td>5</td>\n",
       "      <td>[35]</td>\n",
       "    </tr>\n",
       "    <tr>\n",
       "      <th>29</th>\n",
       "      <td>1</td>\n",
       "      <td>&lt;gspan_mining.graph.Graph object at 0x133044d10&gt;</td>\n",
       "      <td>v 0 X v 1 X v 2 X v 3 X e 0 1 elab-addition e ...</td>\n",
       "      <td>4</td>\n",
       "      <td>[35]</td>\n",
       "    </tr>\n",
       "    <tr>\n",
       "      <th>5</th>\n",
       "      <td>1</td>\n",
       "      <td>&lt;gspan_mining.graph.Graph object at 0x132f85350&gt;</td>\n",
       "      <td>v 0 X v 1 X v 2 X v 3 X e 0 1 enablement e 1 2...</td>\n",
       "      <td>4</td>\n",
       "      <td>[3]</td>\n",
       "    </tr>\n",
       "    <tr>\n",
       "      <th>6</th>\n",
       "      <td>1</td>\n",
       "      <td>&lt;gspan_mining.graph.Graph object at 0x133044610&gt;</td>\n",
       "      <td>v 0 X v 1 X v 2 X v 3 X v 4 X e 0 1 enablement...</td>\n",
       "      <td>5</td>\n",
       "      <td>[3]</td>\n",
       "    </tr>\n",
       "    <tr>\n",
       "      <th>7</th>\n",
       "      <td>1</td>\n",
       "      <td>&lt;gspan_mining.graph.Graph object at 0x13306ecd0&gt;</td>\n",
       "      <td>v 0 X v 1 X v 2 X v 3 X v 4 X v 5 X e 0 1 enab...</td>\n",
       "      <td>6</td>\n",
       "      <td>[3]</td>\n",
       "    </tr>\n",
       "    <tr>\n",
       "      <th>9</th>\n",
       "      <td>1</td>\n",
       "      <td>&lt;gspan_mining.graph.Graph object at 0x132f85250&gt;</td>\n",
       "      <td>v 0 X v 1 X v 2 X v 3 X v 4 X e 0 1 enablement...</td>\n",
       "      <td>5</td>\n",
       "      <td>[53]</td>\n",
       "    </tr>\n",
       "    <tr>\n",
       "      <th>10</th>\n",
       "      <td>1</td>\n",
       "      <td>&lt;gspan_mining.graph.Graph object at 0x132f92f50&gt;</td>\n",
       "      <td>v 0 X v 1 X v 2 X v 3 X e 0 1 enablement e 1 2...</td>\n",
       "      <td>4</td>\n",
       "      <td>[53]</td>\n",
       "    </tr>\n",
       "    <tr>\n",
       "      <th>11</th>\n",
       "      <td>1</td>\n",
       "      <td>&lt;gspan_mining.graph.Graph object at 0x132f92850&gt;</td>\n",
       "      <td>v 0 X v 1 X v 2 X v 3 X e 0 1 enablement e 1 2...</td>\n",
       "      <td>4</td>\n",
       "      <td>[53]</td>\n",
       "    </tr>\n",
       "    <tr>\n",
       "      <th>14</th>\n",
       "      <td>1</td>\n",
       "      <td>&lt;gspan_mining.graph.Graph object at 0x132f7a8d0&gt;</td>\n",
       "      <td>v 0 X v 1 X v 2 X v 3 X e 0 1 joint e 1 2 mann...</td>\n",
       "      <td>4</td>\n",
       "      <td>[3]</td>\n",
       "    </tr>\n",
       "    <tr>\n",
       "      <th>15</th>\n",
       "      <td>1</td>\n",
       "      <td>&lt;gspan_mining.graph.Graph object at 0x132d49d50&gt;</td>\n",
       "      <td>v 0 X v 1 X v 2 X e 0 1 joint e 1 2 joint</td>\n",
       "      <td>3</td>\n",
       "      <td>[53]</td>\n",
       "    </tr>\n",
       "    <tr>\n",
       "      <th>17</th>\n",
       "      <td>1</td>\n",
       "      <td>&lt;gspan_mining.graph.Graph object at 0x132ab2110&gt;</td>\n",
       "      <td>v 0 X v 1 X v 2 X e 0 1 bg-general e 1 2 enabl...</td>\n",
       "      <td>3</td>\n",
       "      <td>[4]</td>\n",
       "    </tr>\n",
       "    <tr>\n",
       "      <th>18</th>\n",
       "      <td>1</td>\n",
       "      <td>&lt;gspan_mining.graph.Graph object at 0x132dbf0d0&gt;</td>\n",
       "      <td>v 0 X v 1 X v 2 X e 0 1 bg-general e 1 2 contr...</td>\n",
       "      <td>3</td>\n",
       "      <td>[50]</td>\n",
       "    </tr>\n",
       "    <tr>\n",
       "      <th>21</th>\n",
       "      <td>1</td>\n",
       "      <td>&lt;gspan_mining.graph.Graph object at 0x13305add0&gt;</td>\n",
       "      <td>v 0 X v 1 X v 2 X v 3 X e 0 1 elab-addition e ...</td>\n",
       "      <td>4</td>\n",
       "      <td>[8]</td>\n",
       "    </tr>\n",
       "    <tr>\n",
       "      <th>24</th>\n",
       "      <td>1</td>\n",
       "      <td>&lt;gspan_mining.graph.Graph object at 0x132f57410&gt;</td>\n",
       "      <td>v 0 X v 1 X v 2 X v 3 X e 0 1 elab-addition e ...</td>\n",
       "      <td>4</td>\n",
       "      <td>[35]</td>\n",
       "    </tr>\n",
       "    <tr>\n",
       "      <th>2</th>\n",
       "      <td>1</td>\n",
       "      <td>&lt;gspan_mining.graph.Graph object at 0x13305af10&gt;</td>\n",
       "      <td>v 0 X v 1 X v 2 X e 0 1 manner-means e 1 2 pro...</td>\n",
       "      <td>3</td>\n",
       "      <td>[25]</td>\n",
       "    </tr>\n",
       "    <tr>\n",
       "      <th>26</th>\n",
       "      <td>1</td>\n",
       "      <td>&lt;gspan_mining.graph.Graph object at 0x133004690&gt;</td>\n",
       "      <td>v 0 X v 1 X v 2 X v 3 X e 0 1 elab-addition e ...</td>\n",
       "      <td>4</td>\n",
       "      <td>[35]</td>\n",
       "    </tr>\n",
       "    <tr>\n",
       "      <th>27</th>\n",
       "      <td>1</td>\n",
       "      <td>&lt;gspan_mining.graph.Graph object at 0x132ff67d0&gt;</td>\n",
       "      <td>v 0 X v 1 X v 2 X v 3 X e 0 1 elab-addition e ...</td>\n",
       "      <td>4</td>\n",
       "      <td>[41]</td>\n",
       "    </tr>\n",
       "    <tr>\n",
       "      <th>48</th>\n",
       "      <td>1</td>\n",
       "      <td>&lt;gspan_mining.graph.Graph object at 0x132dc2950&gt;</td>\n",
       "      <td>v 0 X v 1 X e 0 1 contrast</td>\n",
       "      <td>2</td>\n",
       "      <td>[50]</td>\n",
       "    </tr>\n",
       "  </tbody>\n",
       "</table>\n",
       "</div>"
      ],
      "text/plain": [
       "    support                                             graph  \\\n",
       "3        18  <gspan_mining.graph.Graph object at 0x1331fc150>   \n",
       "19       17  <gspan_mining.graph.Graph object at 0x132ab6a50>   \n",
       "12       11  <gspan_mining.graph.Graph object at 0x132f74990>   \n",
       "23        7  <gspan_mining.graph.Graph object at 0x132f92c50>   \n",
       "1         6  <gspan_mining.graph.Graph object at 0x13306e410>   \n",
       "4         5  <gspan_mining.graph.Graph object at 0x132f85d10>   \n",
       "20        4  <gspan_mining.graph.Graph object at 0x132f7a390>   \n",
       "28        3  <gspan_mining.graph.Graph object at 0x133004f50>   \n",
       "16        3  <gspan_mining.graph.Graph object at 0x132f92b10>   \n",
       "8         2  <gspan_mining.graph.Graph object at 0x132f7af50>   \n",
       "47        2  <gspan_mining.graph.Graph object at 0x13305abd0>   \n",
       "13        2  <gspan_mining.graph.Graph object at 0x132f7a450>   \n",
       "22        2  <gspan_mining.graph.Graph object at 0x132f74a10>   \n",
       "39        2  <gspan_mining.graph.Graph object at 0x132f33f50>   \n",
       "33        1  <gspan_mining.graph.Graph object at 0x132dc25d0>   \n",
       "34        1  <gspan_mining.graph.Graph object at 0x13305aed0>   \n",
       "36        1  <gspan_mining.graph.Graph object at 0x133004550>   \n",
       "37        1  <gspan_mining.graph.Graph object at 0x1332708d0>   \n",
       "35        1  <gspan_mining.graph.Graph object at 0x132f743d0>   \n",
       "40        1  <gspan_mining.graph.Graph object at 0x1330449d0>   \n",
       "38        1  <gspan_mining.graph.Graph object at 0x133270710>   \n",
       "31        1  <gspan_mining.graph.Graph object at 0x132ff6b90>   \n",
       "41        1  <gspan_mining.graph.Graph object at 0x133044990>   \n",
       "42        1  <gspan_mining.graph.Graph object at 0x132f4c9d0>   \n",
       "43        1  <gspan_mining.graph.Graph object at 0x132f85e10>   \n",
       "44        1  <gspan_mining.graph.Graph object at 0x132fdad90>   \n",
       "45        1  <gspan_mining.graph.Graph object at 0x132f7a1d0>   \n",
       "46        1  <gspan_mining.graph.Graph object at 0x13305ad10>   \n",
       "32        1  <gspan_mining.graph.Graph object at 0x132ff6450>   \n",
       "25        1  <gspan_mining.graph.Graph object at 0x132f7a210>   \n",
       "30        1  <gspan_mining.graph.Graph object at 0x132f74090>   \n",
       "29        1  <gspan_mining.graph.Graph object at 0x133044d10>   \n",
       "5         1  <gspan_mining.graph.Graph object at 0x132f85350>   \n",
       "6         1  <gspan_mining.graph.Graph object at 0x133044610>   \n",
       "7         1  <gspan_mining.graph.Graph object at 0x13306ecd0>   \n",
       "9         1  <gspan_mining.graph.Graph object at 0x132f85250>   \n",
       "10        1  <gspan_mining.graph.Graph object at 0x132f92f50>   \n",
       "11        1  <gspan_mining.graph.Graph object at 0x132f92850>   \n",
       "14        1  <gspan_mining.graph.Graph object at 0x132f7a8d0>   \n",
       "15        1  <gspan_mining.graph.Graph object at 0x132d49d50>   \n",
       "17        1  <gspan_mining.graph.Graph object at 0x132ab2110>   \n",
       "18        1  <gspan_mining.graph.Graph object at 0x132dbf0d0>   \n",
       "21        1  <gspan_mining.graph.Graph object at 0x13305add0>   \n",
       "24        1  <gspan_mining.graph.Graph object at 0x132f57410>   \n",
       "2         1  <gspan_mining.graph.Graph object at 0x13305af10>   \n",
       "26        1  <gspan_mining.graph.Graph object at 0x133004690>   \n",
       "27        1  <gspan_mining.graph.Graph object at 0x132ff67d0>   \n",
       "48        1  <gspan_mining.graph.Graph object at 0x132dc2950>   \n",
       "\n",
       "                                             graphstr  num_vert  \\\n",
       "3                       v 0 X v 1 X e 0 1 enablement          2   \n",
       "19                   v 0 X v 1 X e 0 1 elab-addition          2   \n",
       "12                           v 0 X v 1 X e 0 1 joint          2   \n",
       "23  v 0 X v 1 X v 2 X e 0 1 elab-addition e 1 2 en...         3   \n",
       "1                     v 0 X v 1 X e 0 1 manner-means          2   \n",
       "4     v 0 X v 1 X v 2 X e 0 1 enablement e 1 2 joint          3   \n",
       "20  v 0 X v 1 X v 2 X e 0 1 elab-addition e 1 2 jo...         3   \n",
       "28  v 0 X v 1 X v 2 X e 0 1 elab-addition e 1 2 el...         3   \n",
       "16                      v 0 X v 1 X e 0 1 bg-general          2   \n",
       "8   v 0 X v 1 X v 2 X v 3 X e 0 1 enablement e 1 2...         4   \n",
       "47                       v 0 X v 1 X e 0 1 same-unit          2   \n",
       "13  v 0 X v 1 X v 2 X e 0 1 joint e 1 2 manner-means          3   \n",
       "22  v 0 X v 1 X v 2 X v 3 X e 0 1 elab-addition e ...         4   \n",
       "39  v 0 X v 1 X v 2 X e 0 1 elab-addition e 1 2 sa...         3   \n",
       "33  v 0 X v 1 X v 2 X v 3 X e 0 1 elab-addition e ...         4   \n",
       "34  v 0 X v 1 X v 2 X v 3 X v 4 X e 0 1 elab-addit...         5   \n",
       "36  v 0 X v 1 X v 2 X v 3 X v 4 X v 5 X v 6 X e 0 ...         7   \n",
       "37  v 0 X v 1 X v 2 X v 3 X v 4 X v 5 X e 0 1 elab...         6   \n",
       "35  v 0 X v 1 X v 2 X v 3 X v 4 X v 5 X e 0 1 elab...         6   \n",
       "40                v 0 X v 1 X e 0 1 elab-enum_member          2   \n",
       "38  v 0 X v 1 X v 2 X v 3 X v 4 X e 0 1 elab-addit...         5   \n",
       "31  v 0 X v 1 X v 2 X v 3 X v 4 X v 5 X e 0 1 elab...         6   \n",
       "41                      v 0 X v 1 X e 0 1 exp-reason          2   \n",
       "42                     v 0 X v 1 X e 0 1 attribution          2   \n",
       "43   v 0 X v 1 X v 2 X e 0 1 attribution e 1 2 joint          3   \n",
       "44  v 0 X v 1 X v 2 X v 3 X e 0 1 attribution e 1 ...         4   \n",
       "45                     v 0 X v 1 X e 0 1 progression          2   \n",
       "46                    v 0 X v 1 X e 0 1 elab-example          2   \n",
       "32  v 0 X v 1 X v 2 X v 3 X e 0 1 elab-addition e ...         4   \n",
       "25  v 0 X v 1 X v 2 X v 3 X v 4 X e 0 1 elab-addit...         5   \n",
       "30  v 0 X v 1 X v 2 X v 3 X v 4 X e 0 1 elab-addit...         5   \n",
       "29  v 0 X v 1 X v 2 X v 3 X e 0 1 elab-addition e ...         4   \n",
       "5   v 0 X v 1 X v 2 X v 3 X e 0 1 enablement e 1 2...         4   \n",
       "6   v 0 X v 1 X v 2 X v 3 X v 4 X e 0 1 enablement...         5   \n",
       "7   v 0 X v 1 X v 2 X v 3 X v 4 X v 5 X e 0 1 enab...         6   \n",
       "9   v 0 X v 1 X v 2 X v 3 X v 4 X e 0 1 enablement...         5   \n",
       "10  v 0 X v 1 X v 2 X v 3 X e 0 1 enablement e 1 2...         4   \n",
       "11  v 0 X v 1 X v 2 X v 3 X e 0 1 enablement e 1 2...         4   \n",
       "14  v 0 X v 1 X v 2 X v 3 X e 0 1 joint e 1 2 mann...         4   \n",
       "15         v 0 X v 1 X v 2 X e 0 1 joint e 1 2 joint          3   \n",
       "17  v 0 X v 1 X v 2 X e 0 1 bg-general e 1 2 enabl...         3   \n",
       "18  v 0 X v 1 X v 2 X e 0 1 bg-general e 1 2 contr...         3   \n",
       "21  v 0 X v 1 X v 2 X v 3 X e 0 1 elab-addition e ...         4   \n",
       "24  v 0 X v 1 X v 2 X v 3 X e 0 1 elab-addition e ...         4   \n",
       "2   v 0 X v 1 X v 2 X e 0 1 manner-means e 1 2 pro...         3   \n",
       "26  v 0 X v 1 X v 2 X v 3 X e 0 1 elab-addition e ...         4   \n",
       "27  v 0 X v 1 X v 2 X v 3 X e 0 1 elab-addition e ...         4   \n",
       "48                        v 0 X v 1 X e 0 1 contrast          2   \n",
       "\n",
       "                                      isomorph_graphs  \n",
       "3   [1, 3, 4, 35, 36, 37, 8, 41, 10, 11, 42, 13, 1...  \n",
       "19  [35, 38, 39, 8, 9, 41, 11, 12, 13, 14, 49, 18,...  \n",
       "12          [3, 38, 7, 8, 40, 41, 48, 19, 53, 23, 62]  \n",
       "23                       [35, 41, 11, 13, 14, 24, 58]  \n",
       "1                               [0, 3, 5, 22, 23, 25]  \n",
       "4                                  [3, 8, 41, 48, 53]  \n",
       "20                                    [8, 41, 38, 62]  \n",
       "28                                       [35, 28, 39]  \n",
       "16                                        [34, 4, 50]  \n",
       "8                                            [48, 53]  \n",
       "47                                           [35, 31]  \n",
       "13                                            [3, 23]  \n",
       "22                                           [62, 38]  \n",
       "39                                           [35, 31]  \n",
       "33                                               [35]  \n",
       "34                                               [35]  \n",
       "36                                               [35]  \n",
       "37                                               [35]  \n",
       "35                                               [35]  \n",
       "40                                               [15]  \n",
       "38                                               [35]  \n",
       "31                                               [35]  \n",
       "41                                               [20]  \n",
       "42                                               [23]  \n",
       "43                                               [23]  \n",
       "44                                               [23]  \n",
       "45                                               [25]  \n",
       "46                                               [26]  \n",
       "32                                               [35]  \n",
       "25                                               [35]  \n",
       "30                                               [35]  \n",
       "29                                               [35]  \n",
       "5                                                 [3]  \n",
       "6                                                 [3]  \n",
       "7                                                 [3]  \n",
       "9                                                [53]  \n",
       "10                                               [53]  \n",
       "11                                               [53]  \n",
       "14                                                [3]  \n",
       "15                                               [53]  \n",
       "17                                                [4]  \n",
       "18                                               [50]  \n",
       "21                                                [8]  \n",
       "24                                               [35]  \n",
       "2                                                [25]  \n",
       "26                                               [35]  \n",
       "27                                               [41]  \n",
       "48                                               [50]  "
      ]
     },
     "execution_count": 62,
     "metadata": {},
     "output_type": "execute_result"
    }
   ],
   "source": [
    "means_out.sort_values(by=\"support\", ascending=False)"
   ]
  },
  {
   "cell_type": "code",
   "execution_count": 63,
   "metadata": {},
   "outputs": [
    {
     "data": {
      "text/html": [
       "<div>\n",
       "<style scoped>\n",
       "    .dataframe tbody tr th:only-of-type {\n",
       "        vertical-align: middle;\n",
       "    }\n",
       "\n",
       "    .dataframe tbody tr th {\n",
       "        vertical-align: top;\n",
       "    }\n",
       "\n",
       "    .dataframe thead th {\n",
       "        text-align: right;\n",
       "    }\n",
       "</style>\n",
       "<table border=\"1\" class=\"dataframe\">\n",
       "  <thead>\n",
       "    <tr style=\"text-align: right;\">\n",
       "      <th></th>\n",
       "      <th>support</th>\n",
       "      <th>graph</th>\n",
       "      <th>graphstr</th>\n",
       "      <th>num_vert</th>\n",
       "      <th>isomorph_graphs</th>\n",
       "    </tr>\n",
       "  </thead>\n",
       "  <tbody>\n",
       "    <tr>\n",
       "      <th>1</th>\n",
       "      <td>33</td>\n",
       "      <td>&lt;gspan_mining.graph.Graph object at 0x131575950&gt;</td>\n",
       "      <td>v 0 X v 1 X e 0 1 enablement</td>\n",
       "      <td>2</td>\n",
       "      <td>[0, 9, 12, 16, 20, 24, 27, 28, 45, 46, 56, 57,...</td>\n",
       "    </tr>\n",
       "    <tr>\n",
       "      <th>2</th>\n",
       "      <td>3</td>\n",
       "      <td>&lt;gspan_mining.graph.Graph object at 0x1331fff50&gt;</td>\n",
       "      <td>v 0 X v 1 X v 2 X e 0 1 enablement e 1 2 enabl...</td>\n",
       "      <td>3</td>\n",
       "      <td>[12, 61, 103]</td>\n",
       "    </tr>\n",
       "    <tr>\n",
       "      <th>3</th>\n",
       "      <td>1</td>\n",
       "      <td>&lt;gspan_mining.graph.Graph object at 0x133213190&gt;</td>\n",
       "      <td>v 0 X v 1 X v 2 X v 3 X e 0 1 enablement e 1 2...</td>\n",
       "      <td>4</td>\n",
       "      <td>[103]</td>\n",
       "    </tr>\n",
       "    <tr>\n",
       "      <th>4</th>\n",
       "      <td>2</td>\n",
       "      <td>&lt;gspan_mining.graph.Graph object at 0x133213750&gt;</td>\n",
       "      <td>v 0 X v 1 X v 2 X e 0 1 enablement e 1 2 manne...</td>\n",
       "      <td>3</td>\n",
       "      <td>[16, 92]</td>\n",
       "    </tr>\n",
       "    <tr>\n",
       "      <th>5</th>\n",
       "      <td>1</td>\n",
       "      <td>&lt;gspan_mining.graph.Graph object at 0x133213b50&gt;</td>\n",
       "      <td>v 0 X v 1 X v 2 X v 3 X e 0 1 enablement e 1 2...</td>\n",
       "      <td>4</td>\n",
       "      <td>[92]</td>\n",
       "    </tr>\n",
       "    <tr>\n",
       "      <th>...</th>\n",
       "      <td>...</td>\n",
       "      <td>...</td>\n",
       "      <td>...</td>\n",
       "      <td>...</td>\n",
       "      <td>...</td>\n",
       "    </tr>\n",
       "    <tr>\n",
       "      <th>114</th>\n",
       "      <td>1</td>\n",
       "      <td>&lt;gspan_mining.graph.Graph object at 0x13324e490&gt;</td>\n",
       "      <td>v 0 X v 1 X v 2 X e 0 1 condition e 1 2 enable...</td>\n",
       "      <td>3</td>\n",
       "      <td>[61]</td>\n",
       "    </tr>\n",
       "    <tr>\n",
       "      <th>115</th>\n",
       "      <td>1</td>\n",
       "      <td>&lt;gspan_mining.graph.Graph object at 0x132cc1b10&gt;</td>\n",
       "      <td>v 0 X v 1 X v 2 X v 3 X e 0 1 condition e 1 2 ...</td>\n",
       "      <td>4</td>\n",
       "      <td>[61]</td>\n",
       "    </tr>\n",
       "    <tr>\n",
       "      <th>116</th>\n",
       "      <td>1</td>\n",
       "      <td>&lt;gspan_mining.graph.Graph object at 0x132fda210&gt;</td>\n",
       "      <td>v 0 X v 1 X e 0 1 result</td>\n",
       "      <td>2</td>\n",
       "      <td>[77]</td>\n",
       "    </tr>\n",
       "    <tr>\n",
       "      <th>117</th>\n",
       "      <td>1</td>\n",
       "      <td>&lt;gspan_mining.graph.Graph object at 0x132d56410&gt;</td>\n",
       "      <td>v 0 X v 1 X e 0 1 comparison</td>\n",
       "      <td>2</td>\n",
       "      <td>[100]</td>\n",
       "    </tr>\n",
       "    <tr>\n",
       "      <th>118</th>\n",
       "      <td>1</td>\n",
       "      <td>&lt;gspan_mining.graph.Graph object at 0x132fcc1d0&gt;</td>\n",
       "      <td>v 0 X v 1 X v 2 X e 0 1 comparison e 1 2 progr...</td>\n",
       "      <td>3</td>\n",
       "      <td>[100]</td>\n",
       "    </tr>\n",
       "  </tbody>\n",
       "</table>\n",
       "<p>118 rows × 5 columns</p>\n",
       "</div>"
      ],
      "text/plain": [
       "     support                                             graph  \\\n",
       "1         33  <gspan_mining.graph.Graph object at 0x131575950>   \n",
       "2          3  <gspan_mining.graph.Graph object at 0x1331fff50>   \n",
       "3          1  <gspan_mining.graph.Graph object at 0x133213190>   \n",
       "4          2  <gspan_mining.graph.Graph object at 0x133213750>   \n",
       "5          1  <gspan_mining.graph.Graph object at 0x133213b50>   \n",
       "..       ...                                               ...   \n",
       "114        1  <gspan_mining.graph.Graph object at 0x13324e490>   \n",
       "115        1  <gspan_mining.graph.Graph object at 0x132cc1b10>   \n",
       "116        1  <gspan_mining.graph.Graph object at 0x132fda210>   \n",
       "117        1  <gspan_mining.graph.Graph object at 0x132d56410>   \n",
       "118        1  <gspan_mining.graph.Graph object at 0x132fcc1d0>   \n",
       "\n",
       "                                              graphstr  num_vert  \\\n",
       "1                        v 0 X v 1 X e 0 1 enablement          2   \n",
       "2    v 0 X v 1 X v 2 X e 0 1 enablement e 1 2 enabl...         3   \n",
       "3    v 0 X v 1 X v 2 X v 3 X e 0 1 enablement e 1 2...         4   \n",
       "4    v 0 X v 1 X v 2 X e 0 1 enablement e 1 2 manne...         3   \n",
       "5    v 0 X v 1 X v 2 X v 3 X e 0 1 enablement e 1 2...         4   \n",
       "..                                                 ...       ...   \n",
       "114  v 0 X v 1 X v 2 X e 0 1 condition e 1 2 enable...         3   \n",
       "115  v 0 X v 1 X v 2 X v 3 X e 0 1 condition e 1 2 ...         4   \n",
       "116                          v 0 X v 1 X e 0 1 result          2   \n",
       "117                      v 0 X v 1 X e 0 1 comparison          2   \n",
       "118  v 0 X v 1 X v 2 X e 0 1 comparison e 1 2 progr...         3   \n",
       "\n",
       "                                       isomorph_graphs  \n",
       "1    [0, 9, 12, 16, 20, 24, 27, 28, 45, 46, 56, 57,...  \n",
       "2                                        [12, 61, 103]  \n",
       "3                                                [103]  \n",
       "4                                             [16, 92]  \n",
       "5                                                 [92]  \n",
       "..                                                 ...  \n",
       "114                                               [61]  \n",
       "115                                               [61]  \n",
       "116                                               [77]  \n",
       "117                                              [100]  \n",
       "118                                              [100]  \n",
       "\n",
       "[118 rows x 5 columns]"
      ]
     },
     "execution_count": 63,
     "metadata": {},
     "output_type": "execute_result"
    }
   ],
   "source": [
    "prop_out"
   ]
  },
  {
   "cell_type": "code",
   "execution_count": 64,
   "metadata": {},
   "outputs": [
    {
     "data": {
      "text/html": [
       "<div>\n",
       "<style scoped>\n",
       "    .dataframe tbody tr th:only-of-type {\n",
       "        vertical-align: middle;\n",
       "    }\n",
       "\n",
       "    .dataframe tbody tr th {\n",
       "        vertical-align: top;\n",
       "    }\n",
       "\n",
       "    .dataframe thead th {\n",
       "        text-align: right;\n",
       "    }\n",
       "</style>\n",
       "<table border=\"1\" class=\"dataframe\">\n",
       "  <thead>\n",
       "    <tr style=\"text-align: right;\">\n",
       "      <th></th>\n",
       "      <th>support</th>\n",
       "      <th>graph</th>\n",
       "      <th>graphstr</th>\n",
       "      <th>num_vert</th>\n",
       "      <th>isomorph_graphs</th>\n",
       "    </tr>\n",
       "  </thead>\n",
       "  <tbody>\n",
       "    <tr>\n",
       "      <th>1</th>\n",
       "      <td>4</td>\n",
       "      <td>&lt;gspan_mining.graph.Graph object at 0x132f86450&gt;</td>\n",
       "      <td>v 0 X v 1 X e 0 1 manner-means</td>\n",
       "      <td>2</td>\n",
       "      <td>[0, 41, 69, 5]</td>\n",
       "    </tr>\n",
       "    <tr>\n",
       "      <th>2</th>\n",
       "      <td>28</td>\n",
       "      <td>&lt;gspan_mining.graph.Graph object at 0x132f86390&gt;</td>\n",
       "      <td>v 0 X v 1 X e 0 1 elab-addition</td>\n",
       "      <td>2</td>\n",
       "      <td>[1, 5, 6, 10, 15, 20, 23, 27, 32, 34, 38, 40, ...</td>\n",
       "    </tr>\n",
       "    <tr>\n",
       "      <th>3</th>\n",
       "      <td>5</td>\n",
       "      <td>&lt;gspan_mining.graph.Graph object at 0x133079fd0&gt;</td>\n",
       "      <td>v 0 X v 1 X v 2 X e 0 1 elab-addition e 1 2 sa...</td>\n",
       "      <td>3</td>\n",
       "      <td>[1, 46, 54, 23, 27]</td>\n",
       "    </tr>\n",
       "    <tr>\n",
       "      <th>4</th>\n",
       "      <td>1</td>\n",
       "      <td>&lt;gspan_mining.graph.Graph object at 0x13307c810&gt;</td>\n",
       "      <td>v 0 X v 1 X v 2 X v 3 X e 0 1 elab-addition e ...</td>\n",
       "      <td>4</td>\n",
       "      <td>[27]</td>\n",
       "    </tr>\n",
       "    <tr>\n",
       "      <th>5</th>\n",
       "      <td>4</td>\n",
       "      <td>&lt;gspan_mining.graph.Graph object at 0x13307ccd0&gt;</td>\n",
       "      <td>v 0 X v 1 X v 2 X e 0 1 elab-addition e 1 2 jo...</td>\n",
       "      <td>3</td>\n",
       "      <td>[65, 5, 86, 23]</td>\n",
       "    </tr>\n",
       "    <tr>\n",
       "      <th>...</th>\n",
       "      <td>...</td>\n",
       "      <td>...</td>\n",
       "      <td>...</td>\n",
       "      <td>...</td>\n",
       "      <td>...</td>\n",
       "    </tr>\n",
       "    <tr>\n",
       "      <th>108</th>\n",
       "      <td>1</td>\n",
       "      <td>&lt;gspan_mining.graph.Graph object at 0x133312150&gt;</td>\n",
       "      <td>v 0 X v 1 X v 2 X v 3 X e 0 1 comparison e 1 2...</td>\n",
       "      <td>4</td>\n",
       "      <td>[53]</td>\n",
       "    </tr>\n",
       "    <tr>\n",
       "      <th>109</th>\n",
       "      <td>1</td>\n",
       "      <td>&lt;gspan_mining.graph.Graph object at 0x132ff6050&gt;</td>\n",
       "      <td>v 0 X v 1 X v 2 X v 3 X v 4 X e 0 1 comparison...</td>\n",
       "      <td>5</td>\n",
       "      <td>[53]</td>\n",
       "    </tr>\n",
       "    <tr>\n",
       "      <th>110</th>\n",
       "      <td>1</td>\n",
       "      <td>&lt;gspan_mining.graph.Graph object at 0x1332d1bd0&gt;</td>\n",
       "      <td>v 0 X v 1 X v 2 X v 3 X v 4 X v 5 X e 0 1 comp...</td>\n",
       "      <td>6</td>\n",
       "      <td>[53]</td>\n",
       "    </tr>\n",
       "    <tr>\n",
       "      <th>111</th>\n",
       "      <td>1</td>\n",
       "      <td>&lt;gspan_mining.graph.Graph object at 0x1332ede10&gt;</td>\n",
       "      <td>v 0 X v 1 X v 2 X v 3 X e 0 1 comparison e 1 2...</td>\n",
       "      <td>4</td>\n",
       "      <td>[53]</td>\n",
       "    </tr>\n",
       "    <tr>\n",
       "      <th>112</th>\n",
       "      <td>1</td>\n",
       "      <td>&lt;gspan_mining.graph.Graph object at 0x1332e0310&gt;</td>\n",
       "      <td>v 0 X v 1 X v 2 X v 3 X v 4 X e 0 1 comparison...</td>\n",
       "      <td>5</td>\n",
       "      <td>[53]</td>\n",
       "    </tr>\n",
       "  </tbody>\n",
       "</table>\n",
       "<p>112 rows × 5 columns</p>\n",
       "</div>"
      ],
      "text/plain": [
       "     support                                             graph  \\\n",
       "1          4  <gspan_mining.graph.Graph object at 0x132f86450>   \n",
       "2         28  <gspan_mining.graph.Graph object at 0x132f86390>   \n",
       "3          5  <gspan_mining.graph.Graph object at 0x133079fd0>   \n",
       "4          1  <gspan_mining.graph.Graph object at 0x13307c810>   \n",
       "5          4  <gspan_mining.graph.Graph object at 0x13307ccd0>   \n",
       "..       ...                                               ...   \n",
       "108        1  <gspan_mining.graph.Graph object at 0x133312150>   \n",
       "109        1  <gspan_mining.graph.Graph object at 0x132ff6050>   \n",
       "110        1  <gspan_mining.graph.Graph object at 0x1332d1bd0>   \n",
       "111        1  <gspan_mining.graph.Graph object at 0x1332ede10>   \n",
       "112        1  <gspan_mining.graph.Graph object at 0x1332e0310>   \n",
       "\n",
       "                                              graphstr  num_vert  \\\n",
       "1                      v 0 X v 1 X e 0 1 manner-means          2   \n",
       "2                     v 0 X v 1 X e 0 1 elab-addition          2   \n",
       "3    v 0 X v 1 X v 2 X e 0 1 elab-addition e 1 2 sa...         3   \n",
       "4    v 0 X v 1 X v 2 X v 3 X e 0 1 elab-addition e ...         4   \n",
       "5    v 0 X v 1 X v 2 X e 0 1 elab-addition e 1 2 jo...         3   \n",
       "..                                                 ...       ...   \n",
       "108  v 0 X v 1 X v 2 X v 3 X e 0 1 comparison e 1 2...         4   \n",
       "109  v 0 X v 1 X v 2 X v 3 X v 4 X e 0 1 comparison...         5   \n",
       "110  v 0 X v 1 X v 2 X v 3 X v 4 X v 5 X e 0 1 comp...         6   \n",
       "111  v 0 X v 1 X v 2 X v 3 X e 0 1 comparison e 1 2...         4   \n",
       "112  v 0 X v 1 X v 2 X v 3 X v 4 X e 0 1 comparison...         5   \n",
       "\n",
       "                                       isomorph_graphs  \n",
       "1                                       [0, 41, 69, 5]  \n",
       "2    [1, 5, 6, 10, 15, 20, 23, 27, 32, 34, 38, 40, ...  \n",
       "3                                  [1, 46, 54, 23, 27]  \n",
       "4                                                 [27]  \n",
       "5                                      [65, 5, 86, 23]  \n",
       "..                                                 ...  \n",
       "108                                               [53]  \n",
       "109                                               [53]  \n",
       "110                                               [53]  \n",
       "111                                               [53]  \n",
       "112                                               [53]  \n",
       "\n",
       "[112 rows x 5 columns]"
      ]
     },
     "execution_count": 64,
     "metadata": {},
     "output_type": "execute_result"
    }
   ],
   "source": [
    "assert_out"
   ]
  },
  {
   "cell_type": "code",
   "execution_count": 65,
   "metadata": {},
   "outputs": [],
   "source": [
    "def intersection(lst1, lst2): \n",
    "    lst3 = [value for value in lst1 if value in lst2] \n",
    "    return lst3 "
   ]
  },
  {
   "cell_type": "code",
   "execution_count": 66,
   "metadata": {},
   "outputs": [],
   "source": [
    "assert_attr_objs = list(assert_out[\"isomorph_graphs\"])\n",
    "prop_attr_objs = list(prop_out[\"isomorph_graphs\"])\n",
    "means_attr_objs = list(means_out[\"isomorph_graphs\"])\n",
    "result_attr_objs = list(result_out[\"isomorph_graphs\"])\n",
    "obs_attr_objs = list(obs_out[\"isomorph_graphs\"])\n",
    "descr_attr_objs = list(descr_out[\"isomorph_graphs\"])"
   ]
  },
  {
   "cell_type": "code",
   "execution_count": 67,
   "metadata": {},
   "outputs": [
    {
     "data": {
      "text/plain": [
       "112"
      ]
     },
     "execution_count": 67,
     "metadata": {},
     "output_type": "execute_result"
    }
   ],
   "source": [
    "len(assert_attr_objs)"
   ]
  },
  {
   "cell_type": "code",
   "execution_count": 68,
   "metadata": {},
   "outputs": [],
   "source": [
    "prop_objs = objs(prop_out)\n",
    "assert_objs = objs(assert_out)\n",
    "result_objs = objs(result_out)\n",
    "means_objs = objs(means_out)"
   ]
  },
  {
   "cell_type": "code",
   "execution_count": 69,
   "metadata": {},
   "outputs": [
    {
     "name": "stdout",
     "output_type": "stream",
     "text": [
      "Prop all objs263\n",
      "\n",
      "\n",
      "Prop all objs : 93\n",
      "Assert objs : 64\n",
      "Rslt objs : 58\n",
      "Mean objs : 40\n",
      "\n",
      "\n",
      "Inter(P,A) : 53\n",
      "Inter(P,R) : 49\n",
      "Inter(P,M) : 37\n",
      "Inter(A,M) : 28\n",
      "Inter(A,R) : 43\n",
      "Inter(R,M) : 33\n"
     ]
    }
   ],
   "source": [
    "print(\"Prop all objs\" + str(len(set(objs(all_args_gspan_out[1])))))\n",
    "print(\"\\n\")\n",
    "print(\"Prop all objs : \" + str(len(set(prop_objs))))\n",
    "print(\"Assert objs : \" + str(len(set(assert_objs))))\n",
    "print(\"Rslt objs : \" + str(len(set(result_objs))))\n",
    "print(\"Mean objs : \" + str(len(set(means_objs))))\n",
    "print(\"\\n\")\n",
    "print(\"Inter(P,A) : \"+ str(len(intersection(set(prop_objs), set(assert_objs)))))\n",
    "print(\"Inter(P,R) : \"+ str(len(intersection(set(prop_objs), set(result_objs)))))\n",
    "print(\"Inter(P,M) : \"+ str(len(intersection(set(prop_objs), set(means_objs)))))\n",
    "print(\"Inter(A,M) : \"+ str(len(intersection(set(assert_objs), set(means_objs)))))\n",
    "print(\"Inter(A,R) : \"+ str(len(intersection(set(assert_objs), set(result_objs)))))\n",
    "print(\"Inter(R,M) : \"+ str(len(intersection(set(result_objs), set(means_objs)))))"
   ]
  },
  {
   "cell_type": "code",
   "execution_count": 70,
   "metadata": {},
   "outputs": [
    {
     "data": {
      "text/html": [
       "<div>\n",
       "<style scoped>\n",
       "    .dataframe tbody tr th:only-of-type {\n",
       "        vertical-align: middle;\n",
       "    }\n",
       "\n",
       "    .dataframe tbody tr th {\n",
       "        vertical-align: top;\n",
       "    }\n",
       "\n",
       "    .dataframe thead th {\n",
       "        text-align: right;\n",
       "    }\n",
       "</style>\n",
       "<table border=\"1\" class=\"dataframe\">\n",
       "  <thead>\n",
       "    <tr style=\"text-align: right;\">\n",
       "      <th></th>\n",
       "      <th>support</th>\n",
       "      <th>graph</th>\n",
       "      <th>graphstr</th>\n",
       "      <th>num_vert</th>\n",
       "      <th>isomorph_graphs</th>\n",
       "    </tr>\n",
       "  </thead>\n",
       "  <tbody>\n",
       "    <tr>\n",
       "      <th>1</th>\n",
       "      <td>33</td>\n",
       "      <td>&lt;gspan_mining.graph.Graph object at 0x131575950&gt;</td>\n",
       "      <td>v 0 X v 1 X e 0 1 enablement</td>\n",
       "      <td>2</td>\n",
       "      <td>[0, 9, 12, 16, 20, 24, 27, 28, 45, 46, 56, 57,...</td>\n",
       "    </tr>\n",
       "    <tr>\n",
       "      <th>2</th>\n",
       "      <td>3</td>\n",
       "      <td>&lt;gspan_mining.graph.Graph object at 0x1331fff50&gt;</td>\n",
       "      <td>v 0 X v 1 X v 2 X e 0 1 enablement e 1 2 enabl...</td>\n",
       "      <td>3</td>\n",
       "      <td>[12, 61, 103]</td>\n",
       "    </tr>\n",
       "    <tr>\n",
       "      <th>3</th>\n",
       "      <td>1</td>\n",
       "      <td>&lt;gspan_mining.graph.Graph object at 0x133213190&gt;</td>\n",
       "      <td>v 0 X v 1 X v 2 X v 3 X e 0 1 enablement e 1 2...</td>\n",
       "      <td>4</td>\n",
       "      <td>[103]</td>\n",
       "    </tr>\n",
       "    <tr>\n",
       "      <th>4</th>\n",
       "      <td>2</td>\n",
       "      <td>&lt;gspan_mining.graph.Graph object at 0x133213750&gt;</td>\n",
       "      <td>v 0 X v 1 X v 2 X e 0 1 enablement e 1 2 manne...</td>\n",
       "      <td>3</td>\n",
       "      <td>[16, 92]</td>\n",
       "    </tr>\n",
       "    <tr>\n",
       "      <th>5</th>\n",
       "      <td>1</td>\n",
       "      <td>&lt;gspan_mining.graph.Graph object at 0x133213b50&gt;</td>\n",
       "      <td>v 0 X v 1 X v 2 X v 3 X e 0 1 enablement e 1 2...</td>\n",
       "      <td>4</td>\n",
       "      <td>[92]</td>\n",
       "    </tr>\n",
       "    <tr>\n",
       "      <th>...</th>\n",
       "      <td>...</td>\n",
       "      <td>...</td>\n",
       "      <td>...</td>\n",
       "      <td>...</td>\n",
       "      <td>...</td>\n",
       "    </tr>\n",
       "    <tr>\n",
       "      <th>114</th>\n",
       "      <td>1</td>\n",
       "      <td>&lt;gspan_mining.graph.Graph object at 0x13324e490&gt;</td>\n",
       "      <td>v 0 X v 1 X v 2 X e 0 1 condition e 1 2 enable...</td>\n",
       "      <td>3</td>\n",
       "      <td>[61]</td>\n",
       "    </tr>\n",
       "    <tr>\n",
       "      <th>115</th>\n",
       "      <td>1</td>\n",
       "      <td>&lt;gspan_mining.graph.Graph object at 0x132cc1b10&gt;</td>\n",
       "      <td>v 0 X v 1 X v 2 X v 3 X e 0 1 condition e 1 2 ...</td>\n",
       "      <td>4</td>\n",
       "      <td>[61]</td>\n",
       "    </tr>\n",
       "    <tr>\n",
       "      <th>116</th>\n",
       "      <td>1</td>\n",
       "      <td>&lt;gspan_mining.graph.Graph object at 0x132fda210&gt;</td>\n",
       "      <td>v 0 X v 1 X e 0 1 result</td>\n",
       "      <td>2</td>\n",
       "      <td>[77]</td>\n",
       "    </tr>\n",
       "    <tr>\n",
       "      <th>117</th>\n",
       "      <td>1</td>\n",
       "      <td>&lt;gspan_mining.graph.Graph object at 0x132d56410&gt;</td>\n",
       "      <td>v 0 X v 1 X e 0 1 comparison</td>\n",
       "      <td>2</td>\n",
       "      <td>[100]</td>\n",
       "    </tr>\n",
       "    <tr>\n",
       "      <th>118</th>\n",
       "      <td>1</td>\n",
       "      <td>&lt;gspan_mining.graph.Graph object at 0x132fcc1d0&gt;</td>\n",
       "      <td>v 0 X v 1 X v 2 X e 0 1 comparison e 1 2 progr...</td>\n",
       "      <td>3</td>\n",
       "      <td>[100]</td>\n",
       "    </tr>\n",
       "  </tbody>\n",
       "</table>\n",
       "<p>118 rows × 5 columns</p>\n",
       "</div>"
      ],
      "text/plain": [
       "     support                                             graph  \\\n",
       "1         33  <gspan_mining.graph.Graph object at 0x131575950>   \n",
       "2          3  <gspan_mining.graph.Graph object at 0x1331fff50>   \n",
       "3          1  <gspan_mining.graph.Graph object at 0x133213190>   \n",
       "4          2  <gspan_mining.graph.Graph object at 0x133213750>   \n",
       "5          1  <gspan_mining.graph.Graph object at 0x133213b50>   \n",
       "..       ...                                               ...   \n",
       "114        1  <gspan_mining.graph.Graph object at 0x13324e490>   \n",
       "115        1  <gspan_mining.graph.Graph object at 0x132cc1b10>   \n",
       "116        1  <gspan_mining.graph.Graph object at 0x132fda210>   \n",
       "117        1  <gspan_mining.graph.Graph object at 0x132d56410>   \n",
       "118        1  <gspan_mining.graph.Graph object at 0x132fcc1d0>   \n",
       "\n",
       "                                              graphstr  num_vert  \\\n",
       "1                        v 0 X v 1 X e 0 1 enablement          2   \n",
       "2    v 0 X v 1 X v 2 X e 0 1 enablement e 1 2 enabl...         3   \n",
       "3    v 0 X v 1 X v 2 X v 3 X e 0 1 enablement e 1 2...         4   \n",
       "4    v 0 X v 1 X v 2 X e 0 1 enablement e 1 2 manne...         3   \n",
       "5    v 0 X v 1 X v 2 X v 3 X e 0 1 enablement e 1 2...         4   \n",
       "..                                                 ...       ...   \n",
       "114  v 0 X v 1 X v 2 X e 0 1 condition e 1 2 enable...         3   \n",
       "115  v 0 X v 1 X v 2 X v 3 X e 0 1 condition e 1 2 ...         4   \n",
       "116                          v 0 X v 1 X e 0 1 result          2   \n",
       "117                      v 0 X v 1 X e 0 1 comparison          2   \n",
       "118  v 0 X v 1 X v 2 X e 0 1 comparison e 1 2 progr...         3   \n",
       "\n",
       "                                       isomorph_graphs  \n",
       "1    [0, 9, 12, 16, 20, 24, 27, 28, 45, 46, 56, 57,...  \n",
       "2                                        [12, 61, 103]  \n",
       "3                                                [103]  \n",
       "4                                             [16, 92]  \n",
       "5                                                 [92]  \n",
       "..                                                 ...  \n",
       "114                                               [61]  \n",
       "115                                               [61]  \n",
       "116                                               [77]  \n",
       "117                                              [100]  \n",
       "118                                              [100]  \n",
       "\n",
       "[118 rows x 5 columns]"
      ]
     },
     "execution_count": 70,
     "metadata": {},
     "output_type": "execute_result"
    }
   ],
   "source": [
    "prop_out"
   ]
  },
  {
   "cell_type": "code",
   "execution_count": 71,
   "metadata": {},
   "outputs": [
    {
     "data": {
      "text/html": [
       "<div>\n",
       "<style scoped>\n",
       "    .dataframe tbody tr th:only-of-type {\n",
       "        vertical-align: middle;\n",
       "    }\n",
       "\n",
       "    .dataframe tbody tr th {\n",
       "        vertical-align: top;\n",
       "    }\n",
       "\n",
       "    .dataframe thead th {\n",
       "        text-align: right;\n",
       "    }\n",
       "</style>\n",
       "<table border=\"1\" class=\"dataframe\">\n",
       "  <thead>\n",
       "    <tr style=\"text-align: right;\">\n",
       "      <th></th>\n",
       "      <th>support</th>\n",
       "      <th>graph</th>\n",
       "      <th>graphstr</th>\n",
       "      <th>num_vert</th>\n",
       "      <th>isomorph_graphs</th>\n",
       "    </tr>\n",
       "  </thead>\n",
       "  <tbody>\n",
       "    <tr>\n",
       "      <th>1</th>\n",
       "      <td>4</td>\n",
       "      <td>&lt;gspan_mining.graph.Graph object at 0x132f86450&gt;</td>\n",
       "      <td>v 0 X v 1 X e 0 1 manner-means</td>\n",
       "      <td>2</td>\n",
       "      <td>[0, 41, 69, 5]</td>\n",
       "    </tr>\n",
       "    <tr>\n",
       "      <th>2</th>\n",
       "      <td>28</td>\n",
       "      <td>&lt;gspan_mining.graph.Graph object at 0x132f86390&gt;</td>\n",
       "      <td>v 0 X v 1 X e 0 1 elab-addition</td>\n",
       "      <td>2</td>\n",
       "      <td>[1, 5, 6, 10, 15, 20, 23, 27, 32, 34, 38, 40, ...</td>\n",
       "    </tr>\n",
       "    <tr>\n",
       "      <th>3</th>\n",
       "      <td>5</td>\n",
       "      <td>&lt;gspan_mining.graph.Graph object at 0x133079fd0&gt;</td>\n",
       "      <td>v 0 X v 1 X v 2 X e 0 1 elab-addition e 1 2 sa...</td>\n",
       "      <td>3</td>\n",
       "      <td>[1, 46, 54, 23, 27]</td>\n",
       "    </tr>\n",
       "    <tr>\n",
       "      <th>4</th>\n",
       "      <td>1</td>\n",
       "      <td>&lt;gspan_mining.graph.Graph object at 0x13307c810&gt;</td>\n",
       "      <td>v 0 X v 1 X v 2 X v 3 X e 0 1 elab-addition e ...</td>\n",
       "      <td>4</td>\n",
       "      <td>[27]</td>\n",
       "    </tr>\n",
       "    <tr>\n",
       "      <th>5</th>\n",
       "      <td>4</td>\n",
       "      <td>&lt;gspan_mining.graph.Graph object at 0x13307ccd0&gt;</td>\n",
       "      <td>v 0 X v 1 X v 2 X e 0 1 elab-addition e 1 2 jo...</td>\n",
       "      <td>3</td>\n",
       "      <td>[65, 5, 86, 23]</td>\n",
       "    </tr>\n",
       "    <tr>\n",
       "      <th>...</th>\n",
       "      <td>...</td>\n",
       "      <td>...</td>\n",
       "      <td>...</td>\n",
       "      <td>...</td>\n",
       "      <td>...</td>\n",
       "    </tr>\n",
       "    <tr>\n",
       "      <th>108</th>\n",
       "      <td>1</td>\n",
       "      <td>&lt;gspan_mining.graph.Graph object at 0x133312150&gt;</td>\n",
       "      <td>v 0 X v 1 X v 2 X v 3 X e 0 1 comparison e 1 2...</td>\n",
       "      <td>4</td>\n",
       "      <td>[53]</td>\n",
       "    </tr>\n",
       "    <tr>\n",
       "      <th>109</th>\n",
       "      <td>1</td>\n",
       "      <td>&lt;gspan_mining.graph.Graph object at 0x132ff6050&gt;</td>\n",
       "      <td>v 0 X v 1 X v 2 X v 3 X v 4 X e 0 1 comparison...</td>\n",
       "      <td>5</td>\n",
       "      <td>[53]</td>\n",
       "    </tr>\n",
       "    <tr>\n",
       "      <th>110</th>\n",
       "      <td>1</td>\n",
       "      <td>&lt;gspan_mining.graph.Graph object at 0x1332d1bd0&gt;</td>\n",
       "      <td>v 0 X v 1 X v 2 X v 3 X v 4 X v 5 X e 0 1 comp...</td>\n",
       "      <td>6</td>\n",
       "      <td>[53]</td>\n",
       "    </tr>\n",
       "    <tr>\n",
       "      <th>111</th>\n",
       "      <td>1</td>\n",
       "      <td>&lt;gspan_mining.graph.Graph object at 0x1332ede10&gt;</td>\n",
       "      <td>v 0 X v 1 X v 2 X v 3 X e 0 1 comparison e 1 2...</td>\n",
       "      <td>4</td>\n",
       "      <td>[53]</td>\n",
       "    </tr>\n",
       "    <tr>\n",
       "      <th>112</th>\n",
       "      <td>1</td>\n",
       "      <td>&lt;gspan_mining.graph.Graph object at 0x1332e0310&gt;</td>\n",
       "      <td>v 0 X v 1 X v 2 X v 3 X v 4 X e 0 1 comparison...</td>\n",
       "      <td>5</td>\n",
       "      <td>[53]</td>\n",
       "    </tr>\n",
       "  </tbody>\n",
       "</table>\n",
       "<p>112 rows × 5 columns</p>\n",
       "</div>"
      ],
      "text/plain": [
       "     support                                             graph  \\\n",
       "1          4  <gspan_mining.graph.Graph object at 0x132f86450>   \n",
       "2         28  <gspan_mining.graph.Graph object at 0x132f86390>   \n",
       "3          5  <gspan_mining.graph.Graph object at 0x133079fd0>   \n",
       "4          1  <gspan_mining.graph.Graph object at 0x13307c810>   \n",
       "5          4  <gspan_mining.graph.Graph object at 0x13307ccd0>   \n",
       "..       ...                                               ...   \n",
       "108        1  <gspan_mining.graph.Graph object at 0x133312150>   \n",
       "109        1  <gspan_mining.graph.Graph object at 0x132ff6050>   \n",
       "110        1  <gspan_mining.graph.Graph object at 0x1332d1bd0>   \n",
       "111        1  <gspan_mining.graph.Graph object at 0x1332ede10>   \n",
       "112        1  <gspan_mining.graph.Graph object at 0x1332e0310>   \n",
       "\n",
       "                                              graphstr  num_vert  \\\n",
       "1                      v 0 X v 1 X e 0 1 manner-means          2   \n",
       "2                     v 0 X v 1 X e 0 1 elab-addition          2   \n",
       "3    v 0 X v 1 X v 2 X e 0 1 elab-addition e 1 2 sa...         3   \n",
       "4    v 0 X v 1 X v 2 X v 3 X e 0 1 elab-addition e ...         4   \n",
       "5    v 0 X v 1 X v 2 X e 0 1 elab-addition e 1 2 jo...         3   \n",
       "..                                                 ...       ...   \n",
       "108  v 0 X v 1 X v 2 X v 3 X e 0 1 comparison e 1 2...         4   \n",
       "109  v 0 X v 1 X v 2 X v 3 X v 4 X e 0 1 comparison...         5   \n",
       "110  v 0 X v 1 X v 2 X v 3 X v 4 X v 5 X e 0 1 comp...         6   \n",
       "111  v 0 X v 1 X v 2 X v 3 X e 0 1 comparison e 1 2...         4   \n",
       "112  v 0 X v 1 X v 2 X v 3 X v 4 X e 0 1 comparison...         5   \n",
       "\n",
       "                                       isomorph_graphs  \n",
       "1                                       [0, 41, 69, 5]  \n",
       "2    [1, 5, 6, 10, 15, 20, 23, 27, 32, 34, 38, 40, ...  \n",
       "3                                  [1, 46, 54, 23, 27]  \n",
       "4                                                 [27]  \n",
       "5                                      [65, 5, 86, 23]  \n",
       "..                                                 ...  \n",
       "108                                               [53]  \n",
       "109                                               [53]  \n",
       "110                                               [53]  \n",
       "111                                               [53]  \n",
       "112                                               [53]  \n",
       "\n",
       "[112 rows x 5 columns]"
      ]
     },
     "execution_count": 71,
     "metadata": {},
     "output_type": "execute_result"
    }
   ],
   "source": [
    "assert_out"
   ]
  },
  {
   "cell_type": "code",
   "execution_count": 72,
   "metadata": {},
   "outputs": [],
   "source": [
    "assert_attr_subs = [gspangraph_to_nxgraph(x) for x in list(assert_out[\"graph\"])]\n",
    "prop_attr_subs = [gspangraph_to_nxgraph(x) for x in list(prop_out[\"graph\"])]\n",
    "means_attr_subs = [gspangraph_to_nxgraph(x) for x in list(means_out[\"graph\"])]\n",
    "result_attr_subs = [gspangraph_to_nxgraph(x) for x in list(result_out[\"graph\"])]\n",
    "obs_attr_subs = [gspangraph_to_nxgraph(x) for x in list(obs_out[\"graph\"])]\n",
    "descr_attr_subs = [gspangraph_to_nxgraph(x) for x in list(descr_out[\"graph\"])]"
   ]
  },
  {
   "cell_type": "code",
   "execution_count": 73,
   "metadata": {},
   "outputs": [],
   "source": [
    "pmrod = prop_attr_subs+means_attr_subs+result_attr_subs+obs_attr_subs+descr_attr_subs\n",
    "amrod = assert_attr_subs+means_attr_subs+result_attr_subs+obs_attr_subs+descr_attr_subs\n",
    "aprod = assert_attr_subs+prop_attr_subs+result_attr_subs+obs_attr_subs+descr_attr_subs\n",
    "apmrd = assert_attr_subs+prop_attr_subs+means_attr_subs+result_attr_subs+descr_attr_subs\n",
    "apmro = assert_attr_subs+prop_attr_subs+means_attr_subs+result_attr_subs+obs_attr_subs\n",
    "apmod = assert_attr_subs+prop_attr_subs+means_attr_subs+obs_attr_subs+obs_attr_subs"
   ]
  },
  {
   "cell_type": "code",
   "execution_count": 74,
   "metadata": {},
   "outputs": [],
   "source": [
    "from networkx import weisfeiler_lehman_graph_hash\n",
    "from collections import Counter\n",
    "\n",
    "def nxg_counter(gl):\n",
    "    ghash = [weisfeiler_lehman_graph_hash(x,edge_attr=\"label\") for x in gl]\n",
    "    hash_dic = {gh:g for gh,g in zip(ghash, gl)}\n",
    "    return (Counter(ghash), hash_dic)\n",
    "    \n",
    "def is_maj(x,y,tsd):\n",
    "    #boundary = tsd*y/100\n",
    "    test = x*y/100\n",
    "    print(test)\n",
    "    if test >= tsd:\n",
    "        return True\n",
    "    else:\n",
    "        return False\n",
    "    \n",
    "def maj_attr(t1, t2, tsd):\n",
    "    maj = []\n",
    "    typeocc, type_dic = nxg_counter(t1)\n",
    "    allocc, all_dic = nxg_counter(t2)\n",
    "    allg = allocc.values()\n",
    "    print(typeocc)\n",
    "    for tk, tcnt in typeocc.items():\n",
    "        print(\"TK : \" + str(tk))\n",
    "        #print(tcnt)\n",
    "        # if they are mapped\n",
    "        if tk in allocc.keys():\n",
    "            allg = allocc[tk]\n",
    "            #print(str(tk))\n",
    "            #acnt=allocc[tk]\n",
    "            allcnt=allg+tcnt\n",
    "            ismaj = is_maj(tcnt, allcnt, tsd)\n",
    "            if ismaj:\n",
    "                maj.append(type_dic[k])\n",
    "    return maj"
   ]
  },
  {
   "cell_type": "code",
   "execution_count": 75,
   "metadata": {},
   "outputs": [],
   "source": [
    "def uniques_attr(t1, t2):\n",
    "    \"\"\"\n",
    "\n",
    "    \"\"\"\n",
    "    uniques = []\n",
    "    for gt1 in t1:\n",
    "        cond = False\n",
    "        for gt2 in t2:\n",
    "            if nx.is_isomorphic(gt1, gt2):\n",
    "                cond = True\n",
    "                break\n",
    "        if cond == False:\n",
    "            uniques.append(gt1)    \n",
    "        #diff.append(gt1)\n",
    "    return uniques"
   ]
  },
  {
   "cell_type": "code",
   "execution_count": 76,
   "metadata": {},
   "outputs": [],
   "source": [
    "types_subs = [prop_attr_subs,assert_attr_subs,means_attr_subs,result_attr_subs,obs_attr_subs,descr_attr_subs]\n",
    "types_others = [amrod, pmrod, aprod, apmod, apmrd, apmro]\n",
    "types_names = [\"prop\", \"assert\", \"means\", \"result\", \"obs\", \"descr\"]"
   ]
  },
  {
   "cell_type": "code",
   "execution_count": 77,
   "metadata": {},
   "outputs": [],
   "source": [
    "def is_spe(objs, othertypesobjs):\n",
    "    \"\"\"\n",
    "     returns true if the set of objs is specific (not appears in other types objs)\n",
    "    \"\"\"\n",
    "    isspe = True\n",
    "    for obj in objs:\n",
    "        if obj in othertypesobjs:\n",
    "            isspe = False\n",
    "            break\n",
    "    return isspe"
   ]
  },
  {
   "cell_type": "markdown",
   "metadata": {},
   "source": [
    "## Distrib all lengths"
   ]
  },
  {
   "cell_type": "code",
   "execution_count": 78,
   "metadata": {},
   "outputs": [],
   "source": [
    "#all_lens = [y for y in types_lens.values() for sublist in x]\n",
    "all_lens = [item for sublist in types_lens.values() for item in sublist]"
   ]
  },
  {
   "cell_type": "code",
   "execution_count": 79,
   "metadata": {},
   "outputs": [
    {
     "data": {
      "text/plain": [
       "Counter({2: 125, 1: 89, 3: 74, 4: 42, 6: 5, 5: 13, 9: 2, 7: 3})"
      ]
     },
     "execution_count": 79,
     "metadata": {},
     "output_type": "execute_result"
    }
   ],
   "source": [
    "Counter(all_lens)"
   ]
  }
 ],
 "metadata": {
  "kernelspec": {
   "display_name": "venv_movesdist",
   "language": "python",
   "name": "venv_movesdist"
  },
  "language_info": {
   "codemirror_mode": {
    "name": "ipython",
    "version": 3
   },
   "file_extension": ".py",
   "mimetype": "text/x-python",
   "name": "python",
   "nbconvert_exporter": "python",
   "pygments_lexer": "ipython3",
   "version": "3.7.6"
  }
 },
 "nbformat": 4,
 "nbformat_minor": 4
}
